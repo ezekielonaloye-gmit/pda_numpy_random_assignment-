{
 "cells": [
  {
   "cell_type": "markdown",
   "metadata": {},
   "source": [
    "# The numpy.random package"
   ]
  },
  {
   "cell_type": "markdown",
   "metadata": {
    "collapsed": true
   },
   "source": [
    "### Overall purpose of the package "
   ]
  },
  {
   "cell_type": "markdown",
   "metadata": {},
   "source": [
    "### About Numpy"
   ]
  },
  {
   "cell_type": "markdown",
   "metadata": {},
   "source": [
    "Numpy is a power package for working with data in python. It is a good package for data analysis and machine learning that works well with other packages such as pandas and scikit-learn. Numpy itself provides ndarray objects which is for n-dimensional arrays. Numpy is a specialist package that deals with multi-dimensional arrays (list within list). \n",
    "\n",
    "Numpy is a very important package beacuse all other packages depend on it,is very good especially with the numpy.random package for generating simulated data as computers cant generate random numbers. "
   ]
  },
  {
   "cell_type": "markdown",
   "metadata": {},
   "source": [
    "### About random module"
   ]
  },
  {
   "cell_type": "markdown",
   "metadata": {},
   "source": [
    "The random module in Numpy package contains many functions for generation of random numbers, Numpy's random module provides methods for obtaining random numbers from any of several distributions as well as covenient ways to choose random entries from an array and to randomly shuffle the contents of an array. \n",
    "The core library's random module, np.random uses a Mersenne Twister pseudorandom generator (PRNG). \n",
    "\n",
    "Random package is a sub package of the numpy package in Python. The numbers are not completely random from literature findings covered for this assignment. Random numbers are drawn from a probability distribution, the most common one is the uniform distribution which is random numbers between zero and one. "
   ]
  },
  {
   "cell_type": "markdown",
   "metadata": {},
   "source": [
    "### Simple Random Data "
   ]
  },
  {
   "cell_type": "markdown",
   "metadata": {},
   "source": [
    "Simple random date is used to generate random data for everyday purpose. Simple random data is based on the distributions. Each time below functions is ran a different set of random numbers is generated. "
   ]
  },
  {
   "cell_type": "markdown",
   "metadata": {},
   "source": [
    "######  (A) numpy.random.rand()\n",
    "\n",
    "This function create an array of the given shape and populate it with random samples. Random number generation from Uniform distribution over [0,1).  \n",
    "\n",
    "Using random.rand(), we can generate an array of random numbers of the shape we pass to it from uniform distribution over 0 to 1. \n",
    "\n",
    "For a one-dimensional array of 4 objects that are uniformly distributed from 0 to 1 we do below: "
   ]
  },
  {
   "cell_type": "code",
   "execution_count": 5,
   "metadata": {},
   "outputs": [
    {
     "name": "stdout",
     "output_type": "stream",
     "text": [
      "[0.02073493 0.24761973 0.16023708 0.54038003]\n",
      "[[0.37881079 0.62950954 0.98470449 0.57417561]\n",
      " [0.12449668 0.82650191 0.86410852 0.13330341]\n",
      " [0.17266001 0.40724162 0.18526087 0.16898013]\n",
      " [0.81220888 0.15165475 0.39448777 0.23449544]\n",
      " [0.68163276 0.69174368 0.99102893 0.9777476 ]]\n"
     ]
    }
   ],
   "source": [
    "# one-dimensional array of 4 objects that are uniformly distributed from 0 to 1 \n",
    "import numpy as np\n",
    "my_rand = np.random.rand(4) \n",
    "print(my_rand)\n",
    "\n",
    "# two-dimensional array of 5 rows and 4 columns \n",
    "my_rand_ = np.random.rand(5,4) \n",
    "print(my_rand_)\n"
   ]
  },
  {
   "cell_type": "markdown",
   "metadata": {},
   "source": [
    "######  (B) numpy.random.randn()\n",
    "\n",
    "This function generate random numbers from normal distribution with zero as mean and 1 as standard deviation which imply standard normal. "
   ]
  },
  {
   "cell_type": "markdown",
   "metadata": {},
   "source": [
    "######  (C) numpy.random.random()   [Random generated on a uniform interval]\n",
    "\n",
    "This function return array of random floats of shape size in the half-oepn interval [0.0, 1.0) which is also knows as a semi-open range.\n",
    "Results for this relate to the \" continous uniform\" distribution and function  returns a random float in the interval [0.0, 1.0). The result will always be less than the right-hand endpoint(1.0) **[3]**. This function is similar to np.random.sample as they are both from \"continous uniform\" distribution over the stated interval.                                                                              \n",
    "Example below:\n"
   ]
  },
  {
   "cell_type": "code",
   "execution_count": 2,
   "metadata": {},
   "outputs": [
    {
     "name": "stdout",
     "output_type": "stream",
     "text": [
      "[False  True  True  True  True False  True False  True False  True False\n",
      "  True  True  True  True  True  True  True False]\n",
      "Number of heads 14 heads.\n"
     ]
    }
   ],
   "source": [
    "#numpy.random.random()   #Random generated on a uniform interval\n",
    "import numpy as np\n",
    "x = np.random.random(size=20)  # generate 20 random numbers on uniform interval\n",
    "heads = x > 0.5  # make them coin flops \n",
    "print(heads) #show which were heads and count the no of heads\n",
    "print('Number of heads', np.sum(heads), 'heads.')"
   ]
  },
  {
   "cell_type": "markdown",
   "metadata": {},
   "source": [
    "######  (D) numpy.random.randint()\n",
    "#(low, high=None, size=None)\n",
    "This function return random integers between two endpoints, random integers returned from low (inclusive) to high (exclusive)**[6]**. Return random integers from the \"discrete uniform\" distribution. If _high_ is _None_ (the default), then results are from [0,low) above **[2]**. Example of this below:"
   ]
  },
  {
   "cell_type": "code",
   "execution_count": 1,
   "metadata": {},
   "outputs": [
    {
     "data": {
      "text/plain": [
       "array([0, 2, 0, 1, 4, 4, 4, 2, 3, 2])"
      ]
     },
     "execution_count": 1,
     "metadata": {},
     "output_type": "execute_result"
    }
   ],
   "source": [
    "# Example of randint with only low and high is not speicified with size of 10 random int to be generated. \n",
    "# int generated start from 0 as expected.\n",
    "import numpy as np\n",
    "np.random.randint(6, size=10)"
   ]
  },
  {
   "cell_type": "code",
   "execution_count": 6,
   "metadata": {},
   "outputs": [
    {
     "name": "stdout",
     "output_type": "stream",
     "text": [
      "Random integers exclusive of 20:\n",
      "\n",
      "Random integers exclusive of 20:\n",
      "\n",
      "Random integers exclusive of 20:\n",
      "\n"
     ]
    }
   ],
   "source": [
    "import numpy as np\n",
    "np.random.randint(10) # generate random integers exclusive of 10.\n",
    "print(\"Random integers exclusive of 20:\\n\")\n",
    "np.random.randint(2,10) # generate random integers including 2 but excluding 10.\n",
    "print(\"Random integers exclusive of 20:\\n\")\n",
    "np.random.randint(2,10,7) # generate 7 random integers including 2 but excluding 10.\n",
    "print(\"Random integers exclusive of 20:\\n\")"
   ]
  },
  {
   "cell_type": "code",
   "execution_count": 6,
   "metadata": {},
   "outputs": [
    {
     "data": {
      "text/plain": [
       "array([[1, 5, 4, 3],\n",
       "       [2, 5, 3, 2],\n",
       "       [4, 5, 2, 3],\n",
       "       [3, 5, 4, 1],\n",
       "       [3, 5, 4, 2],\n",
       "       [1, 1, 1, 1],\n",
       "       [2, 3, 1, 5],\n",
       "       [1, 4, 5, 4]])"
      ]
     },
     "execution_count": 6,
     "metadata": {},
     "output_type": "execute_result"
    }
   ],
   "source": [
    "# Example of randint with both low and high specified \n",
    "# For this example we generate a random array of 8 rows and 4 columns.\n",
    "import numpy as np \n",
    "ezek = np.random.randint(1,6, size=[8,4])\n",
    "ezek"
   ]
  },
  {
   "cell_type": "code",
   "execution_count": 11,
   "metadata": {},
   "outputs": [
    {
     "name": "stdout",
     "output_type": "stream",
     "text": [
      "Random integer vector:\n",
      " [54 69 96 55 93  8 52 70 11 93 33 80 37 46 69 60 81 34 24 86 98 76  9 81\n",
      " 64 79 95 18 68 24 28 84 35  7 25 35 87  6 42 86 66 32 48 14 98  4 29 87\n",
      " 40 92]\n"
     ]
    }
   ],
   "source": [
    "# Example of randint \n",
    "# Generate Four Random Integers Between 1 and 100\n",
    "print(\"Random integer vector:\\n\\n\", np.random.randint(1,100,50)) #randint (low, high, # of samples to be drawn)"
   ]
  },
  {
   "cell_type": "markdown",
   "metadata": {
    "collapsed": true
   },
   "source": [
    "######  (E) numpy.random.random_integers()\n",
    "\n",
    "This function is similar to random.randint ** except ** that if *high* is None(the default) with random_integers,then results are from [1, low] compared to randint that results start from [0,low] if *high* is None. This function has been deprecated so randint is used instead. Examples of random_integers below. "
   ]
  },
  {
   "cell_type": "code",
   "execution_count": 7,
   "metadata": {},
   "outputs": [
    {
     "name": "stderr",
     "output_type": "stream",
     "text": [
      "C:\\Users\\ALEZECARGO\\Anaconda3\\lib\\site-packages\\ipykernel_launcher.py:1: DeprecationWarning: This function is deprecated. Please call randint(1, 5 + 1) instead\n",
      "  \"\"\"Entry point for launching an IPython kernel.\n"
     ]
    },
    {
     "data": {
      "text/plain": [
       "array([[5, 2],\n",
       "       [2, 4],\n",
       "       [2, 3]])"
      ]
     },
     "execution_count": 7,
     "metadata": {},
     "output_type": "execute_result"
    }
   ],
   "source": [
    "ezek1 = np.random.random_integers(5, size=(3,2))\n",
    "ezek1"
   ]
  },
  {
   "cell_type": "code",
   "execution_count": 9,
   "metadata": {},
   "outputs": [
    {
     "name": "stderr",
     "output_type": "stream",
     "text": [
      "C:\\Users\\ALEZECARGO\\Anaconda3\\lib\\site-packages\\ipykernel_launcher.py:2: DeprecationWarning: This function is deprecated. Please call randint(1, 6 + 1) instead\n",
      "  \n",
      "C:\\Users\\ALEZECARGO\\Anaconda3\\lib\\site-packages\\ipykernel_launcher.py:3: DeprecationWarning: This function is deprecated. Please call randint(1, 6 + 1) instead\n",
      "  This is separate from the ipykernel package so we can avoid doing imports until\n"
     ]
    },
    {
     "data": {
      "image/png": "[encoded data removed]",
      "text/plain": [
       "<Figure size 432x288 with 1 Axes>"
      ]
     },
     "metadata": {},
     "output_type": "display_data"
    }
   ],
   "source": [
    "import matplotlib.pyplot as plt\n",
    "x1 = np.random.random_integers(1, 6, 100)\n",
    "x2 = np.random.random_integers(1, 6, 100)\n",
    "xsums = x1 + x2\n",
    "\n",
    "ezek2 = count, bins, ignored = plt.hist(xsums, 11)\n",
    "plt.show(ezek2)"
   ]
  },
  {
   "cell_type": "markdown",
   "metadata": {
    "collapsed": true
   },
   "source": [
    "######  (E) numpy.random.random_sample(), numpy.random.ranf(), numpy.random.sample()\n",
    "random_sample or random.ranf or random.sample are all the same function. This function as well returns random floats in the half open\n",
    "interval [0.0, 1.0). Results are from the \"continous uniform\" distribution. Function takes just one parameter 'size' which defines the output shape. \n",
    "For example if we set size to (3,4) we will get an array with the shape (3,4) filled with random elements: "
   ]
  },
  {
   "cell_type": "code",
   "execution_count": 14,
   "metadata": {},
   "outputs": [
    {
     "data": {
      "text/plain": [
       "array([[0.65437917, 0.38873102, 0.36928042],\n",
       "       [0.62983457, 0.1731899 , 0.68703337]])"
      ]
     },
     "execution_count": 14,
     "metadata": {},
     "output_type": "execute_result"
    }
   ],
   "source": [
    "# Example of random.sample\n",
    "np.random.sample()\n",
    "np.random.sample(3)\n",
    "np.random.sample((2,3 ))"
   ]
  },
  {
   "cell_type": "code",
   "execution_count": 9,
   "metadata": {},
   "outputs": [
    {
     "name": "stdout",
     "output_type": "stream",
     "text": [
      "[0.43859065 0.78115894 0.6893636  0.96161366 0.38474723 0.44630898\n",
      " 0.21847827]\n",
      "[0.69830112 0.88315579 0.43962368 0.28001291 0.85114073 0.79014045\n",
      " 0.73232807]\n"
     ]
    }
   ],
   "source": [
    "x = np.random.random_sample(7)\n",
    "print(x)\n",
    "y = np.random.random_sample((7,))\n",
    "print(y)"
   ]
  },
  {
   "cell_type": "markdown",
   "metadata": {},
   "source": [
    "#####  (E) numpy.random.choice()\n",
    "The random choice can be used to choose a random element from a non-empty sequence, i.e. having the capability of picking a random character from a string or a random element. Examples below"
   ]
  },
  {
   "cell_type": "code",
   "execution_count": 6,
   "metadata": {},
   "outputs": [
    {
     "data": {
      "text/plain": [
       "'Paris'"
      ]
     },
     "execution_count": 6,
     "metadata": {},
     "output_type": "execute_result"
    }
   ],
   "source": [
    "import numpy as np\n",
    "possible_destinations = [\"Berlin\", \"Hamburg\", \"Munich\", \n",
    "                         \"Amsterdam\", \"London\", \"Paris\", \n",
    "                         \"Zurich\", \"Heidelberg\", \"Strasbourg\", \n",
    "                         \"Augsburg\", \"Milan\", \"Rome\"]\n",
    "\n",
    "np.random.choice(possible_destinations)\n",
    "#print( Selected state is possible_destinations))"
   ]
  },
  {
   "cell_type": "code",
   "execution_count": 8,
   "metadata": {},
   "outputs": [
    {
     "name": "stdout",
     "output_type": "stream",
     "text": [
      "['Hamburg' 'Heidelberg' 'Heidelberg']\n",
      "[['Strasbourg' 'Rome' 'Munich' 'Hamburg']\n",
      " ['Paris' 'Strasbourg' 'Berlin' 'Augsburg']\n",
      " ['Berlin' 'Amsterdam' 'Paris' 'Zurich']]\n"
     ]
    }
   ],
   "source": [
    "import numpy as np\n",
    "x1 = np.random.choice(possible_destinations, size=3)\n",
    "print(x1)\n",
    "x2 = np.random.choice(possible_destinations, size=(3, 4))\n",
    "print(x2)"
   ]
  },
  {
   "cell_type": "markdown",
   "metadata": {},
   "source": [
    "### Summary of findings\n",
    "\n",
    "np.random.sample, np.random.random_sample, np.random.randf. These three functions are exactly the same with np.random.random. "
   ]
  },
  {
   "cell_type": "markdown",
   "metadata": {},
   "source": [
    "## Descriptive Statistics using numpy.random.randint"
   ]
  },
  {
   "cell_type": "markdown",
   "metadata": {},
   "source": [
    "###### numpy.percentile()\n",
    "Percentile (or a centile) is a measure used in statistics indicating the value below which a given percentage of observations in a group of observations fall. The function numpy.percentile() is used below. "
   ]
  },
  {
   "cell_type": "markdown",
   "metadata": {},
   "source": [
    "###### numpy.median()\n",
    "Median is defined as the value separating the higher half of a data sample from the lower half. The numpy.median is used below."
   ]
  },
  {
   "cell_type": "markdown",
   "metadata": {},
   "source": [
    "###### numpy.mean()\n",
    "Arithmetic mean is the sum of elements along an axis divided by the number of elements. The numpy.mean() function returns the arithmetic mean of elements in the array. arr.mean()"
   ]
  },
  {
   "cell_type": "markdown",
   "metadata": {},
   "source": [
    "<dl>\n",
    "<dt>numpy.average()</dt>\n",
    "<dd>Weighted average is an average resulting from the multiplication of each component by a factor reflecting its importance. The numpy.average() function computes the weighted average of elements in an array according to their respective weight given in another array.</dd>\n",
    "</dl>"
   ]
  },
  {
   "cell_type": "markdown",
   "metadata": {},
   "source": [
    "###### numpy.std()\n",
    "Standard deviation is the square root of the average of squared deviations from mean. arr.std()"
   ]
  },
  {
   "cell_type": "markdown",
   "metadata": {},
   "source": [
    "###### numpy.variance()\n",
    "Variance is the average of squared deviations, i.e., mean(abs(x - x.mean())**2). In other words, the standard deviation is the square root of variance."
   ]
  },
  {
   "cell_type": "markdown",
   "metadata": {},
   "source": [
    "##### locating the maximum amd minimum values of a Numpy Array using the max() and min() we can get the maximum or minimum values in an array. \n",
    "\n",
    "#### arr_2 = np.random.randint(0,20,10) \n",
    "\n",
    "#### arr_2.max() #This gives the highest value in the array. \n",
    "\n",
    "#### arr_2.min() #This gives the loweest value in the array. \n",
    "\n",
    "#### using the argmax() and argmin() functions, we can locate the index of the maximum or minimum  values in an array. \n",
    "\n",
    "### arr_2.argmax() #This shows the index of the highest value in the array. \n",
    "\n",
    "### arr_2.argmin() #This shows the index of the lowest value in the array.  "
   ]
  },
  {
   "cell_type": "markdown",
   "metadata": {},
   "source": [
    "## Standard Distribution is kinda of bell curve with mean as 0 and standard deviation as 1"
   ]
  },
  {
   "cell_type": "code",
   "execution_count": 2,
   "metadata": {},
   "outputs": [
    {
     "data": {
      "text/plain": [
       "array([3.33343943, 2.55892851, 1.42293036, 4.77443676, 3.17515911,\n",
       "       4.59539509])"
      ]
     },
     "execution_count": 2,
     "metadata": {},
     "output_type": "execute_result"
    }
   ],
   "source": [
    "# Below gives you number greater than 0 and 1\n",
    "# gives you number accordingly to what you specify as high & low\n",
    "import numpy as np\n",
    "np.random.uniform(0,5,6) "
   ]
  },
  {
   "cell_type": "code",
   "execution_count": null,
   "metadata": {
    "collapsed": true
   },
   "outputs": [],
   "source": [
    "# Seed is the position where you start picking numbers from"
   ]
  },
  {
   "cell_type": "markdown",
   "metadata": {
    "collapsed": true
   },
   "source": [
    "# References\n",
    "\n",
    "\n",
    "[2] https://www.w3cschool.cn/doc_numpy_1_11/numpy_1_11-generated-numpy-random-randint.html?lang=en\n",
    "\n",
    "[3] https://realpython.com/python-random/\n",
    "\n",
    "[4] https://en.wikipedia.org/wiki/Uniform_distribution_(continuous) \n",
    "\n",
    "[5] https://www.machinelearningplus.com/python/numpy-tutorial-part1-array-python-examples/ \n",
    "\n",
    "[6] https://chrisalbon.com/python/basics/generating_random_numbers_with_numpy\n",
    "\n",
    "[7] https://www.tutorialspoint.com/numpy/numpy_statistical_functions.htm\n"
   ]
  },
  {
   "cell_type": "code",
   "execution_count": null,
   "metadata": {
    "collapsed": true
   },
   "outputs": [],
   "source": []
  }
 ],
 "metadata": {
  "kernelspec": {
   "display_name": "Python 3",
   "language": "python",
   "name": "python3"
  },
  "language_info": {
   "codemirror_mode": {
    "name": "ipython",
    "version": 3
   },
   "file_extension": ".py",
   "mimetype": "text/x-python",
   "name": "python",
   "nbconvert_exporter": "python",
   "pygments_lexer": "ipython3",
   "version": "3.6.3"
  }
 },
 "nbformat": 4,
 "nbformat_minor": 2
}
