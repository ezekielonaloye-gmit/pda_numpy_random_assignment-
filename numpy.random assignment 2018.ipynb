{
 "cells": [
  {
   "cell_type": "markdown",
   "metadata": {},
   "source": [
    "<p align=\"center\">\n",
    "  <h1 align=\"center\">The numpy.random package</h1><br>\n",
    "</p>"
   ]
  },
  {
   "cell_type": "markdown",
   "metadata": {
    "collapsed": true
   },
   "source": [
    "## Overall purpose of the package "
   ]
  },
  {
   "cell_type": "markdown",
   "metadata": {},
   "source": [
    "### About Numpy"
   ]
  },
  {
   "cell_type": "markdown",
   "metadata": {},
   "source": [
    "Numpy is one of the core library for scientific computing in Python, NumPy was originally developed in the mid-2000s, and arose from an even older package called Numeric [1]. it is well-known for delivering a high-performance multidimensional array object, and tools for working with these arrays.\n",
    "\n",
    "It offers a great alternative to Python lists, as NumPy arrays are more compact allowing faster access in reading and writing items, and are more convenient and more efficient overall because of this NumPy arrays are often preferred over Python lists."
   ]
  },
  {
   "cell_type": "markdown",
   "metadata": {},
   "source": [
    "### About random module"
   ]
  },
  {
   "cell_type": "markdown",
   "metadata": {},
   "source": [
    "Random is a module which generates pseudo-random numbers, other module functions depend on the function random() to generate random numbers from different distributions depending on the function called within the random module. Random module contains very useful functions.\n",
    "\n",
    "Random module contains many functions for generating random numbers, Numpy's random module provides methods for obtaining random numbers from any of several distributions as well as covenient ways to choose random entries from an array and to randomly shuffle the contents of an array. \n",
    "The core library's random module, np.random uses a Mersenne Twister pseudorandom generator (PRNG). \n",
    "\n",
    "Random package is a sub package of the numpy package in Python. The numbers are not completely random from literature findings covered for this assignment. Random numbers are drawn from probability distribution."
   ]
  },
  {
   "cell_type": "markdown",
   "metadata": {},
   "source": [
    "### Numpy.random package "
   ]
  },
  {
   "cell_type": "markdown",
   "metadata": {},
   "source": [
    "Numpy.random, the package for the purpose of this assignment in simple language that numpy is used basically for creating an array while random generate random values from what I gathered through lectures and extra research. In one sentence it is a package used for creating an array where each element is a random number.\n",
    "\n",
    "For the purpose of this assignment bar chart, histogram, boxplots, scatter plots and so on will be used for examples demonstration and Descriptive Statistics Using Numpy.Random will be covered for illustration purpose."
   ]
  },
  {
   "cell_type": "markdown",
   "metadata": {},
   "source": [
    " <h1 align=\"center\">Simple Random Data </h1>"
   ]
  },
  {
   "cell_type": "markdown",
   "metadata": {},
   "source": [
    "Simple random data is used for generating random data for everyday purpose. Simple random data is generated from uniform and standard distribution mostly. "
   ]
  },
  {
   "cell_type": "markdown",
   "metadata": {},
   "source": [
    "### numpy.random.rand()\n",
    "\n",
    " >This function create an array of the given shape,  It gives uniformly distributed random numbers whose values lies between 0 and 1. Since it is uniformly distributed, therefore the mean value is 0.5.\n",
    "\n",
    "\n",
    "<h4 align=\"center\">rand() examples</h4>\n",
    "  "
   ]
  },
  {
   "cell_type": "code",
   "execution_count": 7,
   "metadata": {},
   "outputs": [
    {
     "name": "stdout",
     "output_type": "stream",
     "text": [
      "Randomly display 4 values as specified: [0.41010683 0.55552046 0.0547847  0.36483363] \n",
      "\n",
      "Display two-dimensional array of 3 rows and 4 columns \n",
      "\n",
      "[[0.35675091 0.52469887 0.54821355 0.96032495]\n",
      " [0.96453239 0.59285536 0.9287517  0.11350075]\n",
      " [0.09990074 0.68834798 0.65238608 0.1594663 ]]\n"
     ]
    }
   ],
   "source": [
    "# one-dimensional array of 4 objects that are uniformly distributed from 0 to 1 \n",
    "import numpy as np\n",
    "ezekiel_rand = np.random.rand(4) \n",
    "print('Randomly display 4 values as specified:', ezekiel_rand,'\\n')\n",
    "\n",
    "# two-dimensional array of 3 rows and 4 columns \n",
    "ezekiely_rand = np.random.rand(3,4) \n",
    "print('Display two-dimensional array of 3 rows and 4 columns','\\n')\n",
    "print(ezekiely_rand)"
   ]
  },
  {
   "cell_type": "code",
   "execution_count": 16,
   "metadata": {},
   "outputs": [
    {
     "data": {
      "image/png": "[encoded data removed]",
      "text/plain": [
       "<Figure size 432x288 with 1 Axes>"
      ]
     },
     "metadata": {},
     "output_type": "display_data"
    },
    {
     "name": "stdout",
     "output_type": "stream",
     "text": [
      "This is an example of uniformly distributed plot using random.rand\n"
     ]
    }
   ],
   "source": [
    "import numpy as np\n",
    "import matplotlib.pyplot as plt\n",
    "\n",
    "e = np.random.rand(1000000)\n",
    "plt.title('Rand() Example')\n",
    "plt.hist(e,1000)\n",
    "plt.show()\n",
    "print('This is an example of uniformly distributed plot using random.rand')"
   ]
  },
  {
   "cell_type": "markdown",
   "metadata": {},
   "source": [
    "### numpy.random.randn()\n",
    "> This function return array from normal (Gaussian) distributed random numbers whose values theoretically lies between -Infinity to Infinity having 0 mean and 1 variance. \n",
    "\n",
    "<h4 align=\"center\">randn() examples</h4>"
   ]
  },
  {
   "cell_type": "code",
   "execution_count": 18,
   "metadata": {},
   "outputs": [
    {
     "name": "stdout",
     "output_type": "stream",
     "text": [
      "Two-dimensional array of 3 rows and 4 columns using randn() \n",
      "\n",
      "[[-0.74642851 -0.72721956 -1.30552569 -0.29313703]\n",
      " [ 1.18453879 -0.6318433  -0.18764212 -1.45653694]\n",
      " [-0.62260425 -1.48027073  0.01739138 -0.9805028 ]]\n"
     ]
    }
   ],
   "source": [
    "import matplotlib.pyplot as plt \n",
    "import numpy as np \n",
    "\n",
    "ezekiely_randn = np.random.randn(3,4) \n",
    "print('Two-dimensional array of 3 rows and 4 columns using randn()','\\n')\n",
    "print(ezekiely_randn)"
   ]
  },
  {
   "cell_type": "code",
   "execution_count": 20,
   "metadata": {},
   "outputs": [
    {
     "data": {
      "image/png": "[encoded data removed]",
      "text/plain": [
       "<Figure size 432x288 with 1 Axes>"
      ]
     },
     "metadata": {},
     "output_type": "display_data"
    },
    {
     "name": "stdout",
     "output_type": "stream",
     "text": [
      "This is an example of Normal distribution plot using random.randn\n"
     ]
    }
   ],
   "source": [
    "import numpy as np\n",
    "import matplotlib.pyplot as plt\n",
    "\n",
    "ez = np.random.randn(1000000)\n",
    "plt.title('Randn() Example')\n",
    "plt.hist(ez,1000)\n",
    "plt.show()\n",
    "print('This is an example of Normal distribution plot using random.randn')"
   ]
  },
  {
   "cell_type": "markdown",
   "metadata": {},
   "source": []
  },
  {
   "cell_type": "markdown",
   "metadata": {},
   "source": [
    "### numpy.random.random(), numpy.random.random_sample(), numpy.random.ranf(), numpy.random.sample()\n",
    "\n",
    "> This function return array of random floats of shape size in the half-oepn interval [0.0, 1.0) which is also knows as a semi-open range. Results are from the “continuous uniform” distribution over the stated interval.\n",
    "<h4 align=\"center\">Example</h4>"
   ]
  },
  {
   "cell_type": "code",
   "execution_count": 31,
   "metadata": {},
   "outputs": [
    {
     "name": "stdout",
     "output_type": "stream",
     "text": [
      "[0.52990025 0.31025331 0.66702734 0.6977566  0.72178849 0.52206048\n",
      " 0.60467098 0.15850691 0.52093632 0.32610574] \n",
      "\n",
      "[0.92729962 0.66378443 0.47691516 0.51113219 0.20837798 0.38290261\n",
      " 0.70824558 0.18061622 0.43752065 0.01481919] \n",
      "\n",
      "[0.13517216 0.46431479 0.21839592 0.89967049 0.45431038 0.32354588\n",
      " 0.92389621 0.19344661 0.14940159 0.42301594] \n",
      "\n",
      "[0.08795597 0.06976521 0.61551544 0.44499921 0.97885842 0.98276909\n",
      " 0.6521027  0.52354943 0.95067793 0.28588493] \n",
      "\n",
      "Look at above we can see they generate random numbers in the same way\n",
      "\n",
      "Continuous uniform distribution is a family of symmetric probability distributions such that for each member of the family, all intervals of the same length on the distributions support are equally probable. The support is defined by the two parameters, a and b, which are its minimum and maximum values.\n"
     ]
    }
   ],
   "source": [
    "#numpy.random.random()   \n",
    "import numpy as np\n",
    "n = np.random.random(size=10)  # generate 10 random numbers on uniform interval\n",
    "print(n,'\\n')\n",
    "\n",
    "o = np.random.random_sample(size=10)  # generate 10 random numbers on uniform interval\n",
    "print(o,'\\n')\n",
    "\n",
    "p = np.random.ranf(size=10)  # generate 10 random numbers on uniform interval\n",
    "print(p,'\\n')\n",
    "\n",
    "q = np.random.sample(size=10)  # generate 10 random numbers on uniform interval\n",
    "print(q,'\\n')\n",
    "\n",
    "print('Look at above we can see they generate random numbers in the same way\\n')\n",
    "print ('Continuous uniform distribution is a family of symmetric probability distributions such that for each member of the family, all intervals of the same length on the distributions support are equally probable. The support is defined by the two parameters, a and b, which are its minimum and maximum values.')"
   ]
  },
  {
   "cell_type": "code",
   "execution_count": 38,
   "metadata": {},
   "outputs": [
    {
     "data": {
      "text/plain": [
       "(array([11.,  9.,  9., 12.,  9.,  8., 10., 18.,  6.,  8.]),\n",
       " array([0.00366818, 0.10224779, 0.2008274 , 0.299407  , 0.39798661,\n",
       "        0.49656622, 0.59514583, 0.69372543, 0.79230504, 0.89088465,\n",
       "        0.98946426]),\n",
       " <a list of 10 Patch objects>)"
      ]
     },
     "execution_count": 38,
     "metadata": {},
     "output_type": "execute_result"
    },
    {
     "data": {
      "image/png": "[encoded data removed]",
      "text/plain": [
       "<Figure size 432x288 with 4 Axes>"
      ]
     },
     "metadata": {},
     "output_type": "display_data"
    }
   ],
   "source": [
    "%matplotlib inline\n",
    "\n",
    "import numpy as np\n",
    "import matplotlib.pyplot as plt\n",
    "\n",
    "rr = np.random.random((100,))\n",
    "plt.subplot(3, 2, 1)\n",
    "plt.title('Random.random')\n",
    "plt.hist(rr)\n",
    "\n",
    "rrs = np.random.random_sample((100,))\n",
    "plt.subplot(3, 2, 2)\n",
    "plt.title('Random.random_sample')\n",
    "plt.hist(rrs)\n",
    "\n",
    "rrf = np.random.ranf((100,))\n",
    "plt.subplot(3, 2, 5)\n",
    "plt.title('Random.Ranf')\n",
    "plt.hist(rrf)\n",
    "\n",
    "rs = np.random.sample((100,))\n",
    "plt.subplot(3, 2, 6)\n",
    "plt.title('Random.sample')\n",
    "plt.hist(rs)"
   ]
  },
  {
   "cell_type": "markdown",
   "metadata": {},
   "source": [
    "### numpy.random.randint() \n",
    "\n",
    "> Randint function return random integers between two endpoints, randint and randinterger accepts two parameters: a lowest and a highest number to generate (low, high=None, size=None). Returned random integers is from \"discrete uniform\" distribution.\n",
    "\n",
    "### numpy.random.random_integers()\n",
    "\n",
    "> This function is similar to random.randint except that if high is None(the default) with random_integers,then results are from [1, low] compared to randint that results start from [0,low] if high is None. This function has been deprecated so randint is used instead."
   ]
  },
  {
   "cell_type": "markdown",
   "metadata": {},
   "source": [
    "<h4 align=\"center\">Example of Random_int</h4>"
   ]
  },
  {
   "cell_type": "code",
   "execution_count": 1,
   "metadata": {},
   "outputs": [
    {
     "data": {
      "text/plain": [
       "array([0, 2, 0, 1, 4, 4, 4, 2, 3, 2])"
      ]
     },
     "execution_count": 1,
     "metadata": {},
     "output_type": "execute_result"
    }
   ],
   "source": [
    "# Example of randint including low parameter,excluding high parameter with(size=10) integers to be generated. \n",
    "# int generated start from 0 as expected but excluding 6. \n",
    "import numpy as np\n",
    "np.random.randint(6, size=10)"
   ]
  },
  {
   "cell_type": "code",
   "execution_count": 57,
   "metadata": {},
   "outputs": [
    {
     "name": "stdout",
     "output_type": "stream",
     "text": [
      "generate random integer as low as 6 but excluding 10: 7 \n",
      "\n",
      "Random integers exclusive of 20: [4 9 6 3 9 6 9] \n",
      "\n",
      "Generate Four Random Integers Between 1 and 100:\n",
      " [85 75 60 95  8 84 39 84 11 56 45 37 80 85 23 46 41 99 16 98 34  5 60 39\n",
      " 58  3 95 15 54 32 82 93  4 65 96 17  7 81 93 18 19  9 98 53 10 25 73 53\n",
      " 71 42]\n"
     ]
    }
   ],
   "source": [
    "import numpy as np\n",
    "\n",
    "ezerandint = np.random.randint(6,10) # generate random integers including 2 but excluding 10.\n",
    "print(\"Generate random integer as low as 6 but excluding 10:\",ezerandint,'\\n')\n",
    "\n",
    "ezekrandint = np.random.randint(2,10,7) # generate 7 random integers including 2 but excluding 10.\n",
    "print(\"Random integers exclusive of 10:\",ezekrandint,'\\n')\n",
    "\n",
    "print(\"Generate Four Random Integers Between 1 and 100:\\n\", np.random.randint(1,100,50)) #randint (low, high, # of samples to be drawn)"
   ]
  },
  {
   "cell_type": "code",
   "execution_count": 69,
   "metadata": {},
   "outputs": [
    {
     "data": {
      "image/png": "[encoded data removed]",
      "text/plain": [
       "<Figure size 432x288 with 1 Axes>"
      ]
     },
     "metadata": {},
     "output_type": "display_data"
    }
   ],
   "source": [
    "import matplotlib.pyplot as plt \n",
    "import numpy as np\n",
    "\n",
    "x=np.random.randint(50, size=40)\n",
    "y=np.random.randint(50, size=40)\n",
    "z=np.random.randint(10)\n",
    "colors=np.random.rand(40)\n",
    "plt.scatter(x,y,s=z*777,c=colors,alpha=0.5)\n",
    "\n",
    "plt.show()"
   ]
  },
  {
   "cell_type": "markdown",
   "metadata": {
    "collapsed": true
   },
   "source": [
    "<h4 align=\"center\">Example of Random_integers</h4>"
   ]
  },
  {
   "cell_type": "code",
   "execution_count": 62,
   "metadata": {},
   "outputs": [
    {
     "name": "stderr",
     "output_type": "stream",
     "text": [
      "C:\\Users\\ALEZECARGO\\Anaconda3\\lib\\site-packages\\ipykernel_launcher.py:2: DeprecationWarning: This function is deprecated. Please call randint(1, 5 + 1) instead\n",
      "  \n"
     ]
    },
    {
     "data": {
      "text/plain": [
       "array([[3, 5],\n",
       "       [3, 2],\n",
       "       [5, 3]])"
      ]
     },
     "execution_count": 62,
     "metadata": {},
     "output_type": "execute_result"
    }
   ],
   "source": [
    "import numpy as np\n",
    "ezek1 = np.random.random_integers(5, size=(3,2))\n",
    "ezek1"
   ]
  },
  {
   "cell_type": "code",
   "execution_count": 61,
   "metadata": {},
   "outputs": [
    {
     "name": "stderr",
     "output_type": "stream",
     "text": [
      "C:\\Users\\ALEZECARGO\\Anaconda3\\lib\\site-packages\\ipykernel_launcher.py:4: DeprecationWarning: This function is deprecated. Please call randint(1, 6 + 1) instead\n",
      "  after removing the cwd from sys.path.\n",
      "C:\\Users\\ALEZECARGO\\Anaconda3\\lib\\site-packages\\ipykernel_launcher.py:5: DeprecationWarning: This function is deprecated. Please call randint(1, 6 + 1) instead\n",
      "  \"\"\"\n"
     ]
    },
    {
     "data": {
      "image/png": "[encoded data removed]",
      "text/plain": [
       "<Figure size 432x288 with 1 Axes>"
      ]
     },
     "metadata": {},
     "output_type": "display_data"
    }
   ],
   "source": [
    "import matplotlib.pyplot as plt\n",
    "import numpy as np\n",
    "\n",
    "x1 = np.random.random_integers(1, 6, 100)\n",
    "x2 = np.random.random_integers(1, 6, 100)\n",
    "xsums = x1 + x2\n",
    "plt.title('Example of random_integers')\n",
    "plt.hist(xsums,10)\n",
    "plt.show()"
   ]
  },
  {
   "cell_type": "markdown",
   "metadata": {},
   "source": [
    "### numpy.random.choice() \n",
    "\n",
    "> Random choice is used to choose a random element from a non-empty sequence, i.e. having the capability of picking a random character from a string or a random element. Examples below"
   ]
  },
  {
   "cell_type": "code",
   "execution_count": 6,
   "metadata": {},
   "outputs": [
    {
     "data": {
      "text/plain": [
       "'Paris'"
      ]
     },
     "execution_count": 6,
     "metadata": {},
     "output_type": "execute_result"
    }
   ],
   "source": [
    "import numpy as np\n",
    "possible_destinations = [\"Berlin\", \"Hamburg\", \"Munich\", \n",
    "                         \"Amsterdam\", \"London\", \"Paris\", \n",
    "                         \"Zurich\", \"Heidelberg\", \"Strasbourg\", \n",
    "                         \"Augsburg\", \"Milan\", \"Rome\"]\n",
    "\n",
    "np.random.choice(possible_destinations)\n",
    "#print( Selected state is possible_destinations))"
   ]
  },
  {
   "cell_type": "code",
   "execution_count": 8,
   "metadata": {},
   "outputs": [
    {
     "name": "stdout",
     "output_type": "stream",
     "text": [
      "['Hamburg' 'Heidelberg' 'Heidelberg']\n",
      "[['Strasbourg' 'Rome' 'Munich' 'Hamburg']\n",
      " ['Paris' 'Strasbourg' 'Berlin' 'Augsburg']\n",
      " ['Berlin' 'Amsterdam' 'Paris' 'Zurich']]\n"
     ]
    }
   ],
   "source": [
    "import numpy as np\n",
    "x1 = np.random.choice(possible_destinations, size=3)\n",
    "print(x1)\n",
    "x2 = np.random.choice(possible_destinations, size=(3, 4))\n",
    "print(x2)"
   ]
  },
  {
   "cell_type": "markdown",
   "metadata": {},
   "source": [
    "### numpy.bytes() "
   ]
  },
  {
   "cell_type": "markdown",
   "metadata": {},
   "source": [
    " <h3 align=\"left\">Summary of Simple Random Data Findings</h3>\n",
    " \n",
    " > n in the randn means negative.\n",
    " \n",
    " > randn gives a real number between -1 to 1.\n",
    " \n",
    " > rand gives a real number between 0 or 1.\n",
    " "
   ]
  },
  {
   "cell_type": "markdown",
   "metadata": {},
   "source": [
    " <h1 align=\"center\">Permuttations</h1>"
   ]
  },
  {
   "cell_type": "markdown",
   "metadata": {},
   "source": [
    "###### np.random.premutation() is used for stuffing an array. It takes the entries in an array and shuffles them.\n",
    "example below:"
   ]
  },
  {
   "cell_type": "code",
   "execution_count": 1,
   "metadata": {},
   "outputs": [
    {
     "data": {
      "text/plain": [
       "array([14,  5,  4, 18, 48, 23, 43, 13, 37, 17, 40, 41, 16, 49, 15, 29, 51,\n",
       "        8,  6, 47, 35, 19, 52, 20, 21, 36,  7, 50, 45,  0, 22, 44, 39, 32,\n",
       "       10, 31,  2, 25, 12, 24, 38, 27,  1, 34,  9, 28, 26, 30, 33, 11,  3,\n",
       "       42, 46])"
      ]
     },
     "execution_count": 1,
     "metadata": {},
     "output_type": "execute_result"
    }
   ],
   "source": [
    "import numpy as np \n",
    "np.random.permutation(np.arange(53))"
   ]
  },
  {
   "cell_type": "code",
   "execution_count": 68,
   "metadata": {
    "collapsed": true
   },
   "outputs": [],
   "source": [
    "#### The shuffle function, shuffles the elements in list in place, so they are in a random order."
   ]
  },
  {
   "cell_type": "markdown",
   "metadata": {},
   "source": [
    " <h1 align=\"center\">Descriptive Statistics using numpy.random.randint</h1>"
   ]
  },
  {
   "cell_type": "markdown",
   "metadata": {},
   "source": [
    "###### numpy.percentile()\n",
    "Percentile (or a centile) is a measure used in statistics indicating the value below which a given percentage of observations in a group of observations fall. The function numpy.percentile() is used below. "
   ]
  },
  {
   "cell_type": "markdown",
   "metadata": {},
   "source": [
    "###### numpy.median()\n",
    "Median is defined as the value separating the higher half of a data sample from the lower half. The numpy.median is used below."
   ]
  },
  {
   "cell_type": "markdown",
   "metadata": {},
   "source": [
    "###### numpy.mean()\n",
    "Arithmetic mean is the sum of elements along an axis divided by the number of elements. The numpy.mean() function returns the arithmetic mean of elements in the array. arr.mean()"
   ]
  },
  {
   "cell_type": "markdown",
   "metadata": {},
   "source": [
    "<dl>\n",
    "<dt>numpy.average()</dt>\n",
    "<dd>Weighted average is an average resulting from the multiplication of each component by a factor reflecting its importance. The numpy.average() function computes the weighted average of elements in an array according to their respective weight given in another array.</dd>\n",
    "</dl>"
   ]
  },
  {
   "cell_type": "markdown",
   "metadata": {},
   "source": [
    "###### numpy.std()\n",
    "Standard deviation is the square root of the average of squared deviations from mean. arr.std()"
   ]
  },
  {
   "cell_type": "markdown",
   "metadata": {},
   "source": [
    "###### numpy.variance()\n",
    "Variance is the average of squared deviations, i.e., mean(abs(x - x.mean())**2). In other words, the standard deviation is the square root of variance."
   ]
  },
  {
   "cell_type": "markdown",
   "metadata": {},
   "source": [
    "##### locating the maximum amd minimum values of a Numpy Array using the max() and min() we can get the maximum or minimum values in an array. \n",
    "\n",
    "#### arr_2 = np.random.randint(0,20,10) \n",
    "\n",
    "#### arr_2.max() #This gives the highest value in the array. \n",
    "\n",
    "#### arr_2.min() #This gives the loweest value in the array. \n",
    "\n",
    "#### using the argmax() and argmin() functions, we can locate the index of the maximum or minimum  values in an array. \n",
    "\n",
    "### arr_2.argmax() #This shows the index of the highest value in the array. \n",
    "\n",
    "### arr_2.argmin() #This shows the index of the lowest value in the array.  "
   ]
  },
  {
   "cell_type": "markdown",
   "metadata": {},
   "source": [
    "## Standard Distribution is kinda of bell curve with mean as 0 and standard deviation as 1"
   ]
  },
  {
   "cell_type": "code",
   "execution_count": 2,
   "metadata": {},
   "outputs": [
    {
     "data": {
      "text/plain": [
       "array([3.33343943, 2.55892851, 1.42293036, 4.77443676, 3.17515911,\n",
       "       4.59539509])"
      ]
     },
     "execution_count": 2,
     "metadata": {},
     "output_type": "execute_result"
    }
   ],
   "source": [
    "# Below gives you number greater than 0 and 1\n",
    "# gives you number accordingly to what you specify as high & low\n",
    "import numpy as np\n",
    "np.random.uniform(0,5,6) "
   ]
  },
  {
   "cell_type": "code",
   "execution_count": null,
   "metadata": {
    "collapsed": true
   },
   "outputs": [],
   "source": [
    "# Seed is the position where you start picking numbers from\n",
    "# Seed is uniform interval too "
   ]
  },
  {
   "cell_type": "code",
   "execution_count": null,
   "metadata": {
    "collapsed": true
   },
   "outputs": [],
   "source": [
    "####### OTHER FACTS \n",
    "\n",
    "NP.RANDOM.RANDOM --- The result will always be less than the right-hand endpoint(1.0) **[3]**. This function is similar to np.random.sample as they are both from \"continous uniform\" distribution over the stated interval.                                                                              \n",
    "Example below:"
   ]
  },
  {
   "cell_type": "markdown",
   "metadata": {
    "collapsed": true
   },
   "source": [
    "# References\n",
    "\n",
    "\n",
    "[2] https://www.w3cschool.cn/doc_numpy_1_11/numpy_1_11-generated-numpy-random-randint.html?lang=en\n",
    "\n",
    "[3] https://realpython.com/python-random/\n",
    "\n",
    "[4] https://en.wikipedia.org/wiki/Uniform_distribution_(continuous) \n",
    "\n",
    "[5] https://www.machinelearningplus.com/python/numpy-tutorial-part1-array-python-examples/ \n",
    "\n",
    "[6] https://chrisalbon.com/python/basics/generating_random_numbers_with_numpy\n",
    "\n",
    "[7] https://www.tutorialspoint.com/numpy/numpy_statistical_functions.htm\n"
   ]
  },
  {
   "cell_type": "code",
   "execution_count": null,
   "metadata": {
    "collapsed": true
   },
   "outputs": [],
   "source": []
  }
 ],
 "metadata": {
  "kernelspec": {
   "display_name": "Python 3",
   "language": "python",
   "name": "python3"
  },
  "language_info": {
   "codemirror_mode": {
    "name": "ipython",
    "version": 3
   },
   "file_extension": ".py",
   "mimetype": "text/x-python",
   "name": "python",
   "nbconvert_exporter": "python",
   "pygments_lexer": "ipython3",
   "version": "3.6.3"
  }
 },
 "nbformat": 4,
 "nbformat_minor": 2
}
