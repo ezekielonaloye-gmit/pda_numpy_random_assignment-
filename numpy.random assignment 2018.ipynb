{
 "cells": [
  {
   "cell_type": "markdown",
   "metadata": {},
   "source": [
    "<p align=\"center\">\n",
    "  <h1 align=\"center\">Programming for Data Analysis Assignment 2018</h1>\n",
    "  <h1 align=\"center\"> Numpy.random package</h1>\n",
    "  <h2 align=\"center\"> Author: Ezekiel Onaloye</h2> \n",
    "  <h3 align=\"center\"> Please see: ReadMe for more information</h3> \n",
    "  <br><br>\n",
    "</p>"
   ]
  },
  {
   "cell_type": "markdown",
   "metadata": {
    "collapsed": true
   },
   "source": [
    "## Overall purpose of the package \n",
    "***"
   ]
  },
  {
   "cell_type": "markdown",
   "metadata": {},
   "source": [
    "![Numpy](images/Numpy.PNG)\n",
    "### About Numpy\n",
    "***"
   ]
  },
  {
   "cell_type": "markdown",
   "metadata": {},
   "source": [
    "Numpy is one of the core library for scientific computing in Python, NumPy was originally developed in the mid-2000s, and arose from an even older package called Numeric [1]. it is well-known for delivering a high-performance multidimensional array object, and tools for working with these arrays.\n",
    "\n",
    "It offers a great alternative to Python lists, as NumPy arrays are more compact allowing faster access in reading and writing items, and are more convenient and more efficient overall because of this NumPy arrays are often preferred over Python lists."
   ]
  },
  {
   "cell_type": "markdown",
   "metadata": {},
   "source": [
    "![Random](images/Random.PNG)\n",
    "### About random module\n",
    "***"
   ]
  },
  {
   "cell_type": "markdown",
   "metadata": {},
   "source": [
    "Random is a module which generates pseudo-random numbers, other module functions depend on the function random() to generate random numbers from different distributions depending on the function called within the random module. Random module contains very useful functions.\n",
    "\n",
    "Random module contains many functions for generating random numbers, Numpy's random module provides methods for obtaining random numbers from any of several distributions as well as covenient ways to choose random entries from an array and to randomly shuffle the contents of an array. \n",
    "The core library's random module, np.random uses a Mersenne Twister pseudorandom generator (PRNG). \n",
    "\n",
    "Random package is a sub package of the numpy package in Python. The numbers are not completely random from literature findings covered for this assignment. Random numbers are drawn from probability distribution."
   ]
  },
  {
   "cell_type": "markdown",
   "metadata": {},
   "source": [
    "![Three together](images/jupyter.PNG)\n",
    "### Numpy.random package \n",
    "***"
   ]
  },
  {
   "cell_type": "markdown",
   "metadata": {},
   "source": [
    "Numpy.random, the package for the purpose of this assignment in simple language that numpy is used basically for creating an array while random generate random values from what I gathered through lectures and extra research. In one sentence it is a package used for creating an array where each element is a random number.\n",
    "\n",
    "For the purpose of this assignment bar chart, histogram, boxplots, scatter plots and so on will be used for examples demonstration and Descriptive Statistics Using Numpy.Random will be covered for illustration purpose.\n",
    "\n",
    "Assignment completed using Python, so choose to use jupyter notebook as I will be working python interactively. "
   ]
  },
  {
   "cell_type": "markdown",
   "metadata": {},
   "source": [
    " <h1 align=\"center\">Simple Random Data </h1>\n",
    " ***"
   ]
  },
  {
   "cell_type": "markdown",
   "metadata": {},
   "source": [
    "Simple random data is used for generating random data for everyday purpose. Simple random data is generated from uniform and standard distribution mostly. "
   ]
  },
  {
   "cell_type": "markdown",
   "metadata": {},
   "source": [
    "### numpy.random.rand()\n",
    "\n",
    " >This function create an array of the given shape,  It gives uniformly distributed random numbers whose values lies between 0 and 1. Since it is uniformly distributed, therefore the mean value is 0.5.\n",
    "\n",
    "\n",
    "<h4 align=\"center\">rand() examples</h4>\n",
    "  "
   ]
  },
  {
   "cell_type": "code",
   "execution_count": 7,
   "metadata": {},
   "outputs": [
    {
     "name": "stdout",
     "output_type": "stream",
     "text": [
      "Randomly display 4 values as specified: [0.41010683 0.55552046 0.0547847  0.36483363] \n",
      "\n",
      "Display two-dimensional array of 3 rows and 4 columns \n",
      "\n",
      "[[0.35675091 0.52469887 0.54821355 0.96032495]\n",
      " [0.96453239 0.59285536 0.9287517  0.11350075]\n",
      " [0.09990074 0.68834798 0.65238608 0.1594663 ]]\n"
     ]
    }
   ],
   "source": [
    "# one-dimensional array of 4 objects that are uniformly distributed from 0 to 1 \n",
    "import numpy as np\n",
    "ezekiel_rand = np.random.rand(4) \n",
    "print('Randomly display 4 values as specified:', ezekiel_rand,'\\n')\n",
    "\n",
    "# two-dimensional array of 3 rows and 4 columns \n",
    "ezekiely_rand = np.random.rand(3,4) \n",
    "print('Display two-dimensional array of 3 rows and 4 columns','\\n')\n",
    "print(ezekiely_rand)"
   ]
  },
  {
   "cell_type": "code",
   "execution_count": 16,
   "metadata": {},
   "outputs": [
    {
     "data": {
      "image/png": "[encoded data removed]",
      "text/plain": [
       "<Figure size 432x288 with 1 Axes>"
      ]
     },
     "metadata": {},
     "output_type": "display_data"
    },
    {
     "name": "stdout",
     "output_type": "stream",
     "text": [
      "This is an example of uniformly distributed plot using random.rand\n"
     ]
    }
   ],
   "source": [
    "import numpy as np\n",
    "import matplotlib.pyplot as plt\n",
    "\n",
    "e = np.random.rand(1000000)\n",
    "plt.title('Rand() Example')\n",
    "plt.hist(e,1000)\n",
    "plt.show()\n",
    "print('This is an example of uniformly distributed plot using random.rand')"
   ]
  },
  {
   "cell_type": "markdown",
   "metadata": {},
   "source": [
    "### numpy.random.randn()\n",
    "> This function return array from normal (Gaussian) distributed random numbers whose values theoretically lies between -Infinity to Infinity having 0 mean and 1 variance. \n",
    "\n",
    "<h4 align=\"center\">randn() examples</h4>"
   ]
  },
  {
   "cell_type": "code",
   "execution_count": 18,
   "metadata": {},
   "outputs": [
    {
     "name": "stdout",
     "output_type": "stream",
     "text": [
      "Two-dimensional array of 3 rows and 4 columns using randn() \n",
      "\n",
      "[[-0.74642851 -0.72721956 -1.30552569 -0.29313703]\n",
      " [ 1.18453879 -0.6318433  -0.18764212 -1.45653694]\n",
      " [-0.62260425 -1.48027073  0.01739138 -0.9805028 ]]\n"
     ]
    }
   ],
   "source": [
    "import matplotlib.pyplot as plt \n",
    "import numpy as np \n",
    "\n",
    "ezekiely_randn = np.random.randn(3,4) \n",
    "print('Two-dimensional array of 3 rows and 4 columns using randn()','\\n')\n",
    "print(ezekiely_randn)"
   ]
  },
  {
   "cell_type": "code",
   "execution_count": 20,
   "metadata": {},
   "outputs": [
    {
     "data": {
      "image/png": "[encoded data removed]",
      "text/plain": [
       "<Figure size 432x288 with 1 Axes>"
      ]
     },
     "metadata": {},
     "output_type": "display_data"
    },
    {
     "name": "stdout",
     "output_type": "stream",
     "text": [
      "This is an example of Normal distribution plot using random.randn\n"
     ]
    }
   ],
   "source": [
    "import numpy as np\n",
    "import matplotlib.pyplot as plt\n",
    "\n",
    "ez = np.random.randn(1000000)\n",
    "plt.title('Randn() Example')\n",
    "plt.hist(ez,1000)\n",
    "plt.show()\n",
    "print('This is an example of Normal distribution plot using random.randn')"
   ]
  },
  {
   "cell_type": "markdown",
   "metadata": {},
   "source": []
  },
  {
   "cell_type": "markdown",
   "metadata": {},
   "source": [
    "### numpy.random.random(), numpy.random.random_sample(), numpy.random.ranf(), numpy.random.sample()\n",
    "\n",
    "> This function return array of random floats of shape size in the half-oepn interval [0.0, 1.0) which is also knows as a semi-open range. Results are from the “continuous uniform” distribution over the stated interval.\n",
    "<h4 align=\"center\">Example</h4>"
   ]
  },
  {
   "cell_type": "code",
   "execution_count": 31,
   "metadata": {},
   "outputs": [
    {
     "name": "stdout",
     "output_type": "stream",
     "text": [
      "[0.52990025 0.31025331 0.66702734 0.6977566  0.72178849 0.52206048\n",
      " 0.60467098 0.15850691 0.52093632 0.32610574] \n",
      "\n",
      "[0.92729962 0.66378443 0.47691516 0.51113219 0.20837798 0.38290261\n",
      " 0.70824558 0.18061622 0.43752065 0.01481919] \n",
      "\n",
      "[0.13517216 0.46431479 0.21839592 0.89967049 0.45431038 0.32354588\n",
      " 0.92389621 0.19344661 0.14940159 0.42301594] \n",
      "\n",
      "[0.08795597 0.06976521 0.61551544 0.44499921 0.97885842 0.98276909\n",
      " 0.6521027  0.52354943 0.95067793 0.28588493] \n",
      "\n",
      "Look at above we can see they generate random numbers in the same way\n",
      "\n",
      "Continuous uniform distribution is a family of symmetric probability distributions such that for each member of the family, all intervals of the same length on the distributions support are equally probable. The support is defined by the two parameters, a and b, which are its minimum and maximum values.\n"
     ]
    }
   ],
   "source": [
    "#numpy.random.random()   \n",
    "import numpy as np\n",
    "n = np.random.random(size=10)  # generate 10 random numbers on uniform interval\n",
    "print(n,'\\n')\n",
    "\n",
    "o = np.random.random_sample(size=10)  # generate 10 random numbers on uniform interval\n",
    "print(o,'\\n')\n",
    "\n",
    "p = np.random.ranf(size=10)  # generate 10 random numbers on uniform interval\n",
    "print(p,'\\n')\n",
    "\n",
    "q = np.random.sample(size=10)  # generate 10 random numbers on uniform interval\n",
    "print(q,'\\n')\n",
    "\n",
    "print('Look at above we can see they generate random numbers in the same way\\n')\n",
    "print ('Continuous uniform distribution is a family of symmetric probability distributions such that for each member of the family, all intervals of the same length on the distributions support are equally probable. The support is defined by the two parameters, a and b, which are its minimum and maximum values.')"
   ]
  },
  {
   "cell_type": "code",
   "execution_count": 38,
   "metadata": {},
   "outputs": [
    {
     "data": {
      "text/plain": [
       "(array([11.,  9.,  9., 12.,  9.,  8., 10., 18.,  6.,  8.]),\n",
       " array([0.00366818, 0.10224779, 0.2008274 , 0.299407  , 0.39798661,\n",
       "        0.49656622, 0.59514583, 0.69372543, 0.79230504, 0.89088465,\n",
       "        0.98946426]),\n",
       " <a list of 10 Patch objects>)"
      ]
     },
     "execution_count": 38,
     "metadata": {},
     "output_type": "execute_result"
    },
    {
     "data": {
      "image/png": "[encoded data removed]",
      "text/plain": [
       "<Figure size 432x288 with 4 Axes>"
      ]
     },
     "metadata": {},
     "output_type": "display_data"
    }
   ],
   "source": [
    "%matplotlib inline\n",
    "\n",
    "import numpy as np\n",
    "import matplotlib.pyplot as plt\n",
    "\n",
    "rr = np.random.random((100,))\n",
    "plt.subplot(3, 2, 1)\n",
    "plt.title('Random.random')\n",
    "plt.hist(rr)\n",
    "\n",
    "rrs = np.random.random_sample((100,))\n",
    "plt.subplot(3, 2, 2)\n",
    "plt.title('Random.random_sample')\n",
    "plt.hist(rrs)\n",
    "\n",
    "rrf = np.random.ranf((100,))\n",
    "plt.subplot(3, 2, 5)\n",
    "plt.title('Random.Ranf')\n",
    "plt.hist(rrf)\n",
    "\n",
    "rs = np.random.sample((100,))\n",
    "plt.subplot(3, 2, 6)\n",
    "plt.title('Random.sample')\n",
    "plt.hist(rs)"
   ]
  },
  {
   "cell_type": "markdown",
   "metadata": {},
   "source": [
    "### numpy.random.randint() \n",
    "\n",
    "> Randint function return random integers between two endpoints, randint and randinterger accepts two parameters: a lowest and a highest number to generate (low, high=None, size=None). Returned random integers is from \"discrete uniform\" distribution.\n",
    "\n",
    "### numpy.random.random_integers()\n",
    "\n",
    "> This function is similar to random.randint except that if high is None(the default) with random_integers,then results are from [1, low] compared to randint that results start from [0,low] if high is None. This function has been deprecated so randint is used instead."
   ]
  },
  {
   "cell_type": "markdown",
   "metadata": {},
   "source": [
    "<h4 align=\"center\">Example of Random_int</h4>"
   ]
  },
  {
   "cell_type": "code",
   "execution_count": 1,
   "metadata": {},
   "outputs": [
    {
     "data": {
      "text/plain": [
       "array([0, 2, 0, 1, 4, 4, 4, 2, 3, 2])"
      ]
     },
     "execution_count": 1,
     "metadata": {},
     "output_type": "execute_result"
    }
   ],
   "source": [
    "# Example of randint including low parameter,excluding high parameter with(size=10) integers to be generated. \n",
    "# int generated start from 0 as expected but excluding 6. \n",
    "import numpy as np\n",
    "np.random.randint(6, size=10)"
   ]
  },
  {
   "cell_type": "code",
   "execution_count": 57,
   "metadata": {},
   "outputs": [
    {
     "name": "stdout",
     "output_type": "stream",
     "text": [
      "generate random integer as low as 6 but excluding 10: 7 \n",
      "\n",
      "Random integers exclusive of 20: [4 9 6 3 9 6 9] \n",
      "\n",
      "Generate Four Random Integers Between 1 and 100:\n",
      " [85 75 60 95  8 84 39 84 11 56 45 37 80 85 23 46 41 99 16 98 34  5 60 39\n",
      " 58  3 95 15 54 32 82 93  4 65 96 17  7 81 93 18 19  9 98 53 10 25 73 53\n",
      " 71 42]\n"
     ]
    }
   ],
   "source": [
    "import numpy as np\n",
    "\n",
    "ezerandint = np.random.randint(6,10) # generate random integers including 2 but excluding 10.\n",
    "print(\"Generate random integer as low as 6 but excluding 10:\",ezerandint,'\\n')\n",
    "\n",
    "ezekrandint = np.random.randint(2,10,7) # generate 7 random integers including 2 but excluding 10.\n",
    "print(\"Random integers exclusive of 10:\",ezekrandint,'\\n')\n",
    "\n",
    "print(\"Generate Four Random Integers Between 1 and 100:\\n\", np.random.randint(1,100,50)) #randint (low, high, # of samples to be drawn)"
   ]
  },
  {
   "cell_type": "code",
   "execution_count": 69,
   "metadata": {},
   "outputs": [
    {
     "data": {
      "image/png": "[encoded data removed]",
      "text/plain": [
       "<Figure size 432x288 with 1 Axes>"
      ]
     },
     "metadata": {},
     "output_type": "display_data"
    }
   ],
   "source": [
    "import matplotlib.pyplot as plt \n",
    "import numpy as np\n",
    "\n",
    "x=np.random.randint(50, size=40)\n",
    "y=np.random.randint(50, size=40)\n",
    "z=np.random.randint(10)\n",
    "colors=np.random.rand(40)\n",
    "plt.scatter(x,y,s=z*777,c=colors,alpha=0.5)\n",
    "\n",
    "plt.show()"
   ]
  },
  {
   "cell_type": "markdown",
   "metadata": {
    "collapsed": true
   },
   "source": [
    "<h4 align=\"center\">Example of Random_integers</h4>"
   ]
  },
  {
   "cell_type": "code",
   "execution_count": 62,
   "metadata": {},
   "outputs": [
    {
     "name": "stderr",
     "output_type": "stream",
     "text": [
      "C:\\Users\\ALEZECARGO\\Anaconda3\\lib\\site-packages\\ipykernel_launcher.py:2: DeprecationWarning: This function is deprecated. Please call randint(1, 5 + 1) instead\n",
      "  \n"
     ]
    },
    {
     "data": {
      "text/plain": [
       "array([[3, 5],\n",
       "       [3, 2],\n",
       "       [5, 3]])"
      ]
     },
     "execution_count": 62,
     "metadata": {},
     "output_type": "execute_result"
    }
   ],
   "source": [
    "import numpy as np\n",
    "ezek1 = np.random.random_integers(5, size=(3,2))\n",
    "ezek1"
   ]
  },
  {
   "cell_type": "code",
   "execution_count": 43,
   "metadata": {},
   "outputs": [
    {
     "data": {
      "image/png": "[encoded data removed]",
      "text/plain": [
       "<Figure size 432x288 with 1 Axes>"
      ]
     },
     "metadata": {},
     "output_type": "display_data"
    }
   ],
   "source": [
    "import matplotlib.pyplot as plt\n",
    "import warnings; warnings.simplefilter('ignore')\n",
    "import numpy as np\n",
    "\n",
    "x1 = np.random.random_integers(1, 6, 100)\n",
    "x2 = np.random.random_integers(1, 6, 100)\n",
    "xsums = x1 + x2\n",
    "plt.title('Example of random_integers')\n",
    "plt.hist(xsums,10)\n",
    "plt.show()"
   ]
  },
  {
   "cell_type": "markdown",
   "metadata": {},
   "source": [
    "### numpy.random.choice() \n",
    "\n",
    "> Random choice is used to choose a random element from a non-empty sequence, i.e. having the capability of picking a random character from a string or a random element. Examples below"
   ]
  },
  {
   "cell_type": "code",
   "execution_count": 6,
   "metadata": {},
   "outputs": [
    {
     "data": {
      "text/plain": [
       "'Paris'"
      ]
     },
     "execution_count": 6,
     "metadata": {},
     "output_type": "execute_result"
    }
   ],
   "source": [
    "import numpy as np\n",
    "possible_destinations = [\"Berlin\", \"Hamburg\", \"Munich\", \n",
    "                         \"Amsterdam\", \"London\", \"Paris\", \n",
    "                         \"Zurich\", \"Heidelberg\", \"Strasbourg\", \n",
    "                         \"Augsburg\", \"Milan\", \"Rome\"]\n",
    "\n",
    "np.random.choice(possible_destinations)\n",
    "#print( Selected state is possible_destinations))"
   ]
  },
  {
   "cell_type": "code",
   "execution_count": 8,
   "metadata": {},
   "outputs": [
    {
     "name": "stdout",
     "output_type": "stream",
     "text": [
      "['Hamburg' 'Heidelberg' 'Heidelberg']\n",
      "[['Strasbourg' 'Rome' 'Munich' 'Hamburg']\n",
      " ['Paris' 'Strasbourg' 'Berlin' 'Augsburg']\n",
      " ['Berlin' 'Amsterdam' 'Paris' 'Zurich']]\n"
     ]
    }
   ],
   "source": [
    "import numpy as np\n",
    "x1 = np.random.choice(possible_destinations, size=3)\n",
    "print(x1)\n",
    "x2 = np.random.choice(possible_destinations, size=(3, 4))\n",
    "print(x2)"
   ]
  },
  {
   "cell_type": "markdown",
   "metadata": {},
   "source": [
    "### numpy.bytes() "
   ]
  },
  {
   "cell_type": "markdown",
   "metadata": {},
   "source": [
    " <h3 align=\"left\">Summary of Simple Random Data Findings</h3>\n",
    " \n",
    " > n in the randn means negative.\n",
    " \n",
    " > randn gives a real number between -1 to 1.\n",
    " \n",
    " > rand gives a real number between 0 or 1.\n",
    " "
   ]
  },
  {
   "cell_type": "markdown",
   "metadata": {},
   "source": [
    " <h1 align=\"center\">Permutations</h1>\n",
    " ***"
   ]
  },
  {
   "cell_type": "markdown",
   "metadata": {},
   "source": [
    "### np.random.shuffle() \n",
    "> Randomizes the items of a list in place by modifying the sequence object and randomize the order of elements, so basically modifies an array by shuffling it's elements. A simple example below to demonstrate function. "
   ]
  },
  {
   "cell_type": "code",
   "execution_count": 6,
   "metadata": {},
   "outputs": [
    {
     "data": {
      "text/plain": [
       "['Shannon', 'Ennis', 'Limerick', 'Adare', 'Galway']"
      ]
     },
     "execution_count": 6,
     "metadata": {},
     "output_type": "execute_result"
    }
   ],
   "source": [
    "import numpy as np \n",
    "county = ['Limerick', 'Ennis', 'Shannon', 'Adare', 'Galway']\n",
    "np.random.shuffle(items)\n",
    "county"
   ]
  },
  {
   "cell_type": "code",
   "execution_count": 15,
   "metadata": {},
   "outputs": [
    {
     "name": "stdout",
     "output_type": "stream",
     "text": [
      "[6 5 4 4 6 4 9 4 9 8 6 4 9 8 4 7 7 5 5 9]\n"
     ]
    },
    {
     "data": {
      "text/plain": [
       "array([6, 7, 4, 5, 4, 4, 9, 5, 5, 4, 6, 9, 9, 7, 4, 8, 8, 4, 9, 6])"
      ]
     },
     "execution_count": 15,
     "metadata": {},
     "output_type": "execute_result"
    }
   ],
   "source": [
    "import numpy as np \n",
    "x = np.random.randint(4,10,20)\n",
    "print (x)\n",
    "np.random.shuffle(x)\n",
    "x"
   ]
  },
  {
   "cell_type": "markdown",
   "metadata": {},
   "source": [
    "### np.random.permutation() \n",
    "> Function basically alter the order of an array, practically seen as random reordering of a series or list or arrays or rows of a DataFrame. It takes the entries in an array and shuffles them. Example below to demonstrate function. "
   ]
  },
  {
   "cell_type": "code",
   "execution_count": 25,
   "metadata": {},
   "outputs": [
    {
     "name": "stdout",
     "output_type": "stream",
     "text": [
      "[4 4 6 8 9 4 6 9 5 7 4 4 7 5 6 8 5 4 9 9] \n",
      "\n",
      "You can see above that same variable(x) has now been permuatated by the function\n"
     ]
    }
   ],
   "source": [
    "import numpy as np \n",
    "z = np.random.permutation(x)\n",
    "print(z,'\\n')\n",
    "print('You can see above that same variable(x) has now been permuatated by the function')"
   ]
  },
  {
   "cell_type": "code",
   "execution_count": 31,
   "metadata": {},
   "outputs": [
    {
     "data": {
      "text/html": [
       "<div>\n",
       "<style scoped>\n",
       "    .dataframe tbody tr th:only-of-type {\n",
       "        vertical-align: middle;\n",
       "    }\n",
       "\n",
       "    .dataframe tbody tr th {\n",
       "        vertical-align: top;\n",
       "    }\n",
       "\n",
       "    .dataframe thead th {\n",
       "        text-align: right;\n",
       "    }\n",
       "</style>\n",
       "<table border=\"1\" class=\"dataframe\">\n",
       "  <thead>\n",
       "    <tr style=\"text-align: right;\">\n",
       "      <th></th>\n",
       "      <th>0</th>\n",
       "      <th>1</th>\n",
       "      <th>2</th>\n",
       "      <th>3</th>\n",
       "      <th>4</th>\n",
       "    </tr>\n",
       "  </thead>\n",
       "  <tbody>\n",
       "    <tr>\n",
       "      <th>0</th>\n",
       "      <td>0</td>\n",
       "      <td>1</td>\n",
       "      <td>2</td>\n",
       "      <td>3</td>\n",
       "      <td>4</td>\n",
       "    </tr>\n",
       "    <tr>\n",
       "      <th>1</th>\n",
       "      <td>5</td>\n",
       "      <td>6</td>\n",
       "      <td>7</td>\n",
       "      <td>8</td>\n",
       "      <td>9</td>\n",
       "    </tr>\n",
       "    <tr>\n",
       "      <th>2</th>\n",
       "      <td>10</td>\n",
       "      <td>11</td>\n",
       "      <td>12</td>\n",
       "      <td>13</td>\n",
       "      <td>14</td>\n",
       "    </tr>\n",
       "    <tr>\n",
       "      <th>3</th>\n",
       "      <td>15</td>\n",
       "      <td>16</td>\n",
       "      <td>17</td>\n",
       "      <td>18</td>\n",
       "      <td>19</td>\n",
       "    </tr>\n",
       "    <tr>\n",
       "      <th>4</th>\n",
       "      <td>20</td>\n",
       "      <td>21</td>\n",
       "      <td>22</td>\n",
       "      <td>23</td>\n",
       "      <td>24</td>\n",
       "    </tr>\n",
       "  </tbody>\n",
       "</table>\n",
       "</div>"
      ],
      "text/plain": [
       "    0   1   2   3   4\n",
       "0   0   1   2   3   4\n",
       "1   5   6   7   8   9\n",
       "2  10  11  12  13  14\n",
       "3  15  16  17  18  19\n",
       "4  20  21  22  23  24"
      ]
     },
     "execution_count": 31,
     "metadata": {},
     "output_type": "execute_result"
    }
   ],
   "source": [
    "import pandas as pd\n",
    "import numpy as np    \n",
    "f = pd.DataFrame(np.arange(25).reshape(5,5))\n",
    "f"
   ]
  },
  {
   "cell_type": "code",
   "execution_count": 32,
   "metadata": {},
   "outputs": [
    {
     "data": {
      "text/plain": [
       "array([4, 3, 0, 2, 1])"
      ]
     },
     "execution_count": 32,
     "metadata": {},
     "output_type": "execute_result"
    }
   ],
   "source": [
    "new_array = np.random.permutation(5)\n",
    "new_array"
   ]
  },
  {
   "cell_type": "code",
   "execution_count": 33,
   "metadata": {},
   "outputs": [
    {
     "data": {
      "text/html": [
       "<div>\n",
       "<style scoped>\n",
       "    .dataframe tbody tr th:only-of-type {\n",
       "        vertical-align: middle;\n",
       "    }\n",
       "\n",
       "    .dataframe tbody tr th {\n",
       "        vertical-align: top;\n",
       "    }\n",
       "\n",
       "    .dataframe thead th {\n",
       "        text-align: right;\n",
       "    }\n",
       "</style>\n",
       "<table border=\"1\" class=\"dataframe\">\n",
       "  <thead>\n",
       "    <tr style=\"text-align: right;\">\n",
       "      <th></th>\n",
       "      <th>0</th>\n",
       "      <th>1</th>\n",
       "      <th>2</th>\n",
       "      <th>3</th>\n",
       "      <th>4</th>\n",
       "    </tr>\n",
       "  </thead>\n",
       "  <tbody>\n",
       "    <tr>\n",
       "      <th>4</th>\n",
       "      <td>20</td>\n",
       "      <td>21</td>\n",
       "      <td>22</td>\n",
       "      <td>23</td>\n",
       "      <td>24</td>\n",
       "    </tr>\n",
       "    <tr>\n",
       "      <th>3</th>\n",
       "      <td>15</td>\n",
       "      <td>16</td>\n",
       "      <td>17</td>\n",
       "      <td>18</td>\n",
       "      <td>19</td>\n",
       "    </tr>\n",
       "    <tr>\n",
       "      <th>0</th>\n",
       "      <td>0</td>\n",
       "      <td>1</td>\n",
       "      <td>2</td>\n",
       "      <td>3</td>\n",
       "      <td>4</td>\n",
       "    </tr>\n",
       "    <tr>\n",
       "      <th>2</th>\n",
       "      <td>10</td>\n",
       "      <td>11</td>\n",
       "      <td>12</td>\n",
       "      <td>13</td>\n",
       "      <td>14</td>\n",
       "    </tr>\n",
       "    <tr>\n",
       "      <th>1</th>\n",
       "      <td>5</td>\n",
       "      <td>6</td>\n",
       "      <td>7</td>\n",
       "      <td>8</td>\n",
       "      <td>9</td>\n",
       "    </tr>\n",
       "  </tbody>\n",
       "</table>\n",
       "</div>"
      ],
      "text/plain": [
       "    0   1   2   3   4\n",
       "4  20  21  22  23  24\n",
       "3  15  16  17  18  19\n",
       "0   0   1   2   3   4\n",
       "2  10  11  12  13  14\n",
       "1   5   6   7   8   9"
      ]
     },
     "execution_count": 33,
     "metadata": {},
     "output_type": "execute_result"
    }
   ],
   "source": [
    "f.take(new_array)#using take() function to show how permutation function re-arranged the order of f. "
   ]
  },
  {
   "cell_type": "markdown",
   "metadata": {},
   "source": [
    "### Difference between np.random.permutation and np.random.shuffle \n",
    "\n",
    "> if permutation is passed as an array, it will return a shuffled copy of the array while np.random.shuffle shuffles the array in place already only. \n",
    "\n",
    ">if passed as an integer, it will return a shuffled range. "
   ]
  },
  {
   "cell_type": "markdown",
   "metadata": {},
   "source": [
    " <h1 align=\"center\">Descriptive Statistics using numpy.random.randint</h1>\n",
    " ***"
   ]
  },
  {
   "cell_type": "code",
   "execution_count": 36,
   "metadata": {},
   "outputs": [
    {
     "data": {
      "text/plain": [
       "array([4, 4, 9, 9, 9, 7, 7, 8, 9, 5, 8, 3, 5, 4, 4, 9, 5, 5, 9, 3, 4, 6,\n",
       "       5, 4, 8, 7, 4, 6, 8, 8, 4, 3, 4, 6, 9, 6, 3, 4, 4, 9, 7, 6, 5, 5,\n",
       "       3, 8, 9, 6, 8, 3])"
      ]
     },
     "execution_count": 36,
     "metadata": {},
     "output_type": "execute_result"
    }
   ],
   "source": [
    "import numpy as np\n",
    "dstat = np.random.randint(3,10, size=50)\n",
    "dstat"
   ]
  },
  {
   "cell_type": "markdown",
   "metadata": {},
   "source": [
    "###### Numpy descriptive statistics function \n",
    "> **numpy.mean()** : Mean is the sum of elements along an axis divided by the number of elements. The numpy.mean() function returns the arithmetic mean of elements in an array.\n",
    "\n",
    "> **numpy.median()** : Median is defined as the value separating the higher half of a data sample from the lower half. The numpy.median() function returns the median of elements in an array.\n",
    "\n",
    "> **numpy.std()** : Standard deviation is the square root of the average of squared deviations from mean.\n",
    "\n",
    "> **numpy.variance()** : Variance is the average of squared deviations.\n",
    "\n",
    "> **numpy.min()** : Minimum value of a numpy array.\n",
    "\n",
    "> **numpy.max()** : Maximum value of a numpy array.\n",
    "\n",
    "> **numpy.argmin()** : This shows the index of the lowest value in the array. \n",
    "\n",
    "> **numpy.argmax()** : This shows the index of the highest value in the array. "
   ]
  },
  {
   "cell_type": "code",
   "execution_count": 42,
   "metadata": {},
   "outputs": [
    {
     "name": "stdout",
     "output_type": "stream",
     "text": [
      "mean for above array is 5.96 \n",
      "\n",
      "median for above array is 6.0 \n",
      "\n",
      "standard deviation for above array is 2.087678136111982 \n",
      "\n",
      "variance for above array is 4.3584 \n",
      "\n",
      "minimum value for above array is 3 \n",
      "\n",
      "maximum value for above array is 9 \n",
      "\n"
     ]
    }
   ],
   "source": [
    "print('mean for above array is',np.mean(dstat),'\\n')\n",
    "print('median for above array is',np.median(dstat),'\\n')\n",
    "print('standard deviation for above array is',np.std(dstat),'\\n')\n",
    "print('variance for above array is',np.var(dstat),'\\n')\n",
    "print('minimum value for above array is',np.min(dstat),'\\n')\n",
    "print('maximum value for above array is',np.max(dstat),'\\n')"
   ]
  },
  {
   "cell_type": "markdown",
   "metadata": {},
   "source": [
    "<h1 align=\"center\"> Use and Purpose of Five Distributions Functions</h1>\n",
    " ***"
   ]
  },
  {
   "cell_type": "markdown",
   "metadata": {},
   "source": [
    "In this section I showed my understanding of simulating random numbers and generating random variables from probability distribution and visualise them \n",
    "I have used two ways to llustrate this, use of Phyton's Scipy package (scipy.stats) to generate random numbers from probability distributions and I also used Numpy's random module to generate random numbers from distributions covered below.\n",
    "-stats.distribution.rvs() generates random numbers from the specified distribution. The arguments to rvs() will vary depending on the type of distribution.\n",
    "\n",
    "Distributions covered: \n",
    "> Normal Distribution\n",
    "\n",
    "> Binominal Distribution\n",
    "\n",
    "> Poisson Distribution\n",
    "\n",
    "> Exponential Distribution \n",
    "\n",
    "> Belta Distribution\n",
    "\n",
    "> Gamma Distribution \n",
    "\n"
   ]
  },
  {
   "cell_type": "markdown",
   "metadata": {},
   "source": [
    "What is distribution "
   ]
  },
  {
   "cell_type": "markdown",
   "metadata": {},
   "source": [
    "##### What is Probability\n",
    "> Probability measures how likely it is for an event to occur on a scale from 0 (the event never occurs) to 1 (the event always occurs.).\n",
    "\n",
    "> A probability distribution describes how a random variable is distributed; it tells us which values a random variable is most likely to take on and which values are less likely."
   ]
  },
  {
   "cell_type": "markdown",
   "metadata": {},
   "source": [
    "A random variable is a variable that takes on a set of possible values (discrete or continuous) and is subject to randomness. Each possible value the random variable can take on is associated with a probability. The possible values the random variable can take on and the associated probabilities is known as probability distribution.\n",
    "\n",
    "Discrete probability distributions are also called as probability mass functions. Some examples of discrete probability distributions are  Bernoulli distribution,  Binomial distribution, Poisson distribution and Geometric distribution.\n",
    "\n",
    "Continuous probability distributions also known as probability density functions, they are functions that take on continuous values (e.g. values on the real line). Examples include the normal distribution, the exponential distribution and the beta distribution."
   ]
  },
  {
   "cell_type": "code",
   "execution_count": null,
   "metadata": {
    "collapsed": true
   },
   "outputs": [],
   "source": [
    "## Uniform Distribution \n",
    "The uniform distribution is a probability distribution where each value within a certain range is equally likely to occur and values outside of the range never occur.  \n",
    "\n",
    "Parameters: the mean of the distribution μ and the variance σ2.\n",
    "\n",
    "normal distribution is a probability density function that use stats.norm.pdf"
   ]
  },
  {
   "cell_type": "code",
   "execution_count": null,
   "metadata": {
    "collapsed": true
   },
   "outputs": [],
   "source": [
    "import numpy as np\n",
    "import pandas as pd\n",
    "import matplotlib.pyplot as plt\n",
    "import scipy.stats  as stats\n",
    "data_normal = norm.rvs(size = 1000, loc=0, scale=1)\n",
    "ax = sns.distplot(data_normal,\n",
    "                  bins=100,\n",
    "                  kde=True,\n",
    "                  color='skyblue',\n",
    "                  hist_kws={\"linewidth\": 15,'alpha':1})\n",
    "ax.set(xlabel='Normal Distribution', ylabel='Frequency')"
   ]
  },
  {
   "cell_type": "code",
   "execution_count": 96,
   "metadata": {},
   "outputs": [
    {
     "data": {
      "image/png": "[encoded data removed]",
      "text/plain": [
       "<Figure size 432x288 with 1 Axes>"
      ]
     },
     "metadata": {},
     "output_type": "display_data"
    }
   ],
   "source": [
    "import numpy as np\n",
    "import pandas as pd\n",
    "import matplotlib.pyplot as plt\n",
    "import scipy.stats  as stats\n",
    "# Generate 100,000 data points from a uniform distribution spanning the range 0 to 10.\n",
    "uniform_data = stats.uniform.rvs(size = 10000, loc=0, scale=10) \n",
    "plt.figure()\n",
    "plt.hist(uniform_data, bins = 20, density = True)\n",
    "plt.xlim(-1,11)\n",
    "plt.title(\"Poisson Random Variable\")\n",
    "plt.show()"
   ]
  },
  {
   "cell_type": "code",
   "execution_count": null,
   "metadata": {
    "collapsed": true
   },
   "outputs": [],
   "source": [
    "Above diagram support the notion of uniform distribution data that any given value has the same probability of occuring. "
   ]
  },
  {
   "cell_type": "markdown",
   "metadata": {},
   "source": [
    "## Normal Distribution \n",
    "The normal distribution is a continuous distribution, it has a bell-shaped curve described by its mean μ and standard deviation σ. Most values in this distribution remain around its mean with its spread determind by its standard deviation showing that data near the mean are more frequent in occurrence than data from the mean. \n",
    "The normal distribution is parameterized by two parameters: \n",
    "Parameters: the mean of the distribution μ and the variance σ2.\n",
    "\n",
    "normal distribution is a probability density function that use stats.norm.pdf"
   ]
  },
  {
   "cell_type": "code",
   "execution_count": 87,
   "metadata": {},
   "outputs": [
    {
     "data": {
      "text/plain": [
       "[Text(0,0.5,'Frequency'), Text(0.5,0,'Normal Distribution')]"
      ]
     },
     "execution_count": 87,
     "metadata": {},
     "output_type": "execute_result"
    },
    {
     "data": {
      "image/png": "[encoded data removed]",
      "text/plain": [
       "<Figure size 432x288 with 1 Axes>"
      ]
     },
     "metadata": {},
     "output_type": "display_data"
    }
   ],
   "source": [
    "import numpy as np\n",
    "from scipy.stats import norm\n",
    "data_normal = norm.rvs(size = 1000, loc=0, scale=1)\n",
    "ax = sns.distplot(data_normal,\n",
    "                  bins=100,\n",
    "                  kde=True,\n",
    "                  color='skyblue',\n",
    "                  hist_kws={\"linewidth\": 15,'alpha':1})\n",
    "ax.set(xlabel='Normal Distribution', ylabel='Frequency')"
   ]
  },
  {
   "cell_type": "code",
   "execution_count": null,
   "metadata": {
    "collapsed": true
   },
   "outputs": [],
   "source": [
    "import numpy as np\n",
    "import seaborn as sns\n",
    "import matplotlib.pyplot as plt\n",
    "\n",
    "s = np.random.binomial(n, p, 1000)\n",
    "plt.hist (s,density = True)\n",
    "plt.ylabel('Frequency')\n",
    "plt.xlabel('Matches')\n",
    "plt.title('Binomial distribution')\n",
    "plt.show()"
   ]
  },
  {
   "cell_type": "markdown",
   "metadata": {},
   "source": [
    "## Binominal Distribution \n",
    "> The Binomial Distribution is a probability distribution for a ** random variable** which can take on only two discrete values, it is a distribution where only two outcomes are possible such as success or failure, gain or loss, win or lose and where the possibility of success and failure is same for all the trials. The outcome need not be equal and each trial is independent of each other. **The parameters of a binominal distribution are n and p where n is the total number of trials, and p is the probability of success in each trial**.\n",
    "\n",
    "> The assumption for this distribution is the trials are independent and have same probability for success.Based on research and study the most quoted example for a binomial distribution is of tossing a coin. When you toss a coin, the outcomes are assumed to be either heads or tail. One of the two outcomes is called a success and the other one a failure which is exactly what Binominal distribution is about - phenomenon that has outcomes of \"success\" and \"failure\" would have a binomial distribution.\n",
    "\n",
    "<h3 align=\"center\"> Binominal Distribution Example </h3>"
   ]
  },
  {
   "cell_type": "markdown",
   "metadata": {},
   "source": [
    "> Example 1: Tossed Coin\n",
    "\n",
    "> Example 2: Simple Random Binominal Distribution \n",
    "\n",
    "> Scipy.stats module's binom.rvs method which takes n(number of trials) and p(probability of sucess) as shape parameters, size decides the number of times to repeat the trials. "
   ]
  },
  {
   "cell_type": "markdown",
   "metadata": {},
   "source": [
    "<h3 align=\"center\"> Example 1: Tossed Coin </h3>"
   ]
  },
  {
   "cell_type": "code",
   "execution_count": 64,
   "metadata": {},
   "outputs": [
    {
     "data": {
      "image/png": "[encoded data removed]",
      "text/plain": [
       "<Figure size 432x288 with 1 Axes>"
      ]
     },
     "metadata": {},
     "output_type": "display_data"
    }
   ],
   "source": [
    "from scipy import stats\n",
    "import numpy as np \n",
    "import matplotlib.pyplot as plt\n",
    "import seaborn as sns\n",
    "n = 10 #fair coin that is flipped 10 times.\n",
    "p = 0.3 #probability \n",
    "k = np.arange(0,11) #possible values \n",
    "binominal = stats.binom.pmf(k,n,p)\n",
    "plt.plot(k,binominal, 'o-')\n",
    "plt.title('Binominal: n=%i, p=%.2f' %(n,p), fontsize=12)\n",
    "plt.xlabel('Number of successes', fontsize=12)\n",
    "plt.ylabel('Probability of successes', fontsize=12)\n",
    "plt.show()"
   ]
  },
  {
   "cell_type": "code",
   "execution_count": 25,
   "metadata": {},
   "outputs": [
    {
     "data": {
      "image/png": "[encoded data removed]",
      "text/plain": [
       "<Figure size 432x288 with 1 Axes>"
      ]
     },
     "metadata": {},
     "output_type": "display_data"
    }
   ],
   "source": [
    "binom_sim = data = stats.binom.rvs(n = 10, p = 0.3, size = 10000)\n",
    "plt.hist(binom_sim)\n",
    "plt.xlabel(\"Number of heads after n flips\")\n",
    "plt.ylabel(\"Frequency\")\n",
    "plt.show()"
   ]
  },
  {
   "cell_type": "markdown",
   "metadata": {},
   "source": [
    "<h3 align=\"center\"> Example 2: Simple Random Binominal Distribution </h3>"
   ]
  },
  {
   "cell_type": "code",
   "execution_count": 51,
   "metadata": {},
   "outputs": [
    {
     "data": {
      "image/png": "[encoded data removed]",
      "text/plain": [
       "<Figure size 432x288 with 1 Axes>"
      ]
     },
     "metadata": {},
     "output_type": "display_data"
    }
   ],
   "source": [
    "import numpy as np\n",
    "import pandas as pd\n",
    "import seaborn as sns\n",
    "import matplotlib.pyplot as plt\n",
    "n = 38  # number of premier league matches\n",
    "p = .5  #probability of each trial\n",
    "s = np.random.binomial(n, p, 1000)\n",
    "plt.hist (s,density = True)\n",
    "plt.ylabel('Frequency')\n",
    "plt.xlabel('Matches')\n",
    "plt.title('Binomial distribution')\n",
    "plt.show()"
   ]
  },
  {
   "cell_type": "code",
   "execution_count": 59,
   "metadata": {},
   "outputs": [
    {
     "data": {
      "text/plain": [
       "[Text(0,0.5,'Frequency'), Text(0.5,0,'Beta(1,1)')]"
      ]
     },
     "execution_count": 59,
     "metadata": {},
     "output_type": "execute_result"
    },
    {
     "data": {
      "image/png": "[encoded data removed]",
      "text/plain": [
       "<Figure size 432x288 with 1 Axes>"
      ]
     },
     "metadata": {},
     "output_type": "display_data"
    }
   ],
   "source": [
    "from scipy.stats import beta\n",
    "import warnings; warnings.simplefilter('ignore')\n",
    "data_beta = beta.rvs(38, .5, size=100)\n",
    "ax = sns.distplot(data_beta,\n",
    "                  kde=False,\n",
    "                  bins=100,\n",
    "                  color='skyblue',\n",
    "                  hist_kws={\"linewidth\": 15,'alpha':1})\n",
    "ax.set(xlabel='Beta(1,1)', ylabel='Frequency')"
   ]
  },
  {
   "cell_type": "markdown",
   "metadata": {},
   "source": [
    "## Poisson Distribution"
   ]
  },
  {
   "cell_type": "code",
   "execution_count": null,
   "metadata": {
    "collapsed": true
   },
   "outputs": [],
   "source": [
    "The distribution was named after French Mathematician S.D. Poisson, poisson distribution is a discrete probability distribution\n",
    "used to model the number of times an event happened in a time interval. It is a good approximation to the binominal distribution above when the probability is small and the number of trials is large.\n",
    "It is also used for count-based distributions where these events happen with a known average rate\n",
    "and indepedently of the time since the last event. \n",
    "\n",
    "The distribution was named after French Mathematician S.D. Poisson\n",
    "Poisson distribution measures the frequency of events under the assumption of statistical randomness, the distribution is also useful in determining the probability that a certain number of events occur over a given time period. \n",
    "\n",
    "\n",
    "The distribution is used to modem various real life events\n",
    "For example: \n",
    "            (A) Number of accident that occured over a time period. \n",
    "            (B) Number of users visited on a website in an interval.\n",
    "            (C) Number of telephone calls per minute in a small business.\n",
    "            (D) Number of customers who call to complain about a service problem per month.\n",
    "            (E) Number of home runs hit in Major League Baseball games.\n",
    "            (F) Number of yeast cells in brewing Guinness.\n",
    "            (G) Number of mutations due to radiation on a fixed stretch of DNA. \n",
    "\n",
    "Poisson distribution is described in terms of the rate (μ) at which the the events happen. \n",
    "The event can occur 0,1,2,... times in an interval.\n",
    "The average number of events in an interval is λ (lambda) which is the event rate, also known as the rate parameter. \n",
    "            \n"
   ]
  },
  {
   "cell_type": "code",
   "execution_count": 80,
   "metadata": {},
   "outputs": [
    {
     "data": {
      "text/plain": [
       "[Text(0,0.5,'Frequency'), Text(0.5,0,'Poisson Distribution')]"
      ]
     },
     "execution_count": 80,
     "metadata": {},
     "output_type": "execute_result"
    },
    {
     "data": {
      "image/png": "[encoded data removed]",
      "text/plain": [
       "<Figure size 432x288 with 1 Axes>"
      ]
     },
     "metadata": {},
     "output_type": "display_data"
    }
   ],
   "source": [
    "from scipy.stats import poisson\n",
    "import warnings; warnings.simplefilter('ignore')\n",
    "data_poisson = poisson.rvs(mu=25, size=28) #mu=3, size=10000\n",
    "ax = sns.distplot(data_poisson,\n",
    "                  bins=30,\n",
    "                  kde=False,\n",
    "                  color='skyblue',\n",
    "                  hist_kws={\"linewidth\": 15,'alpha':1})\n",
    "ax.set(xlabel='Poisson Distribution', ylabel='Frequency')"
   ]
  },
  {
   "cell_type": "code",
   "execution_count": 81,
   "metadata": {},
   "outputs": [
    {
     "data": {
      "image/png": "[encoded data removed]",
      "text/plain": [
       "<Figure size 432x288 with 1 Axes>"
      ]
     },
     "metadata": {},
     "output_type": "display_data"
    }
   ],
   "source": [
    "%matplotlib inline\n",
    "import matplotlib.pyplot as plt\n",
    "import numpy as np\n",
    "\n",
    "poisson = np.random.poisson(25, 28)\n",
    "\n",
    "plt.hist (poisson)\n",
    "plt.ylabel('Frequency')\n",
    "plt.xlabel('Glasses smashed')\n",
    "plt.title('Poisson distribution')\n",
    "\n",
    "\n",
    "plt.show()"
   ]
  },
  {
   "cell_type": "code",
   "execution_count": 63,
   "metadata": {},
   "outputs": [
    {
     "data": {
      "image/png": "[encoded data removed]",
      "text/plain": [
       "<Figure size 432x288 with 1 Axes>"
      ]
     },
     "metadata": {},
     "output_type": "display_data"
    }
   ],
   "source": [
    "from scipy import stats\n",
    "import numpy as np \n",
    "import matplotlib.pyplot as plt\n",
    "rate = 2\n",
    "n = np.arange(0,10)\n",
    "y = stats.poisson.pmf(n,rate)\n",
    "plt.plot(n,y,'o-')             \n",
    "plt.title('Poisson Distribution', fontsize=12)\n",
    "plt.xlabel('Number of accidents', fontsize=12)\n",
    "plt.ylabel('Probability of number of accidents', fontsize=12)\n",
    "plt.show()"
   ]
  },
  {
   "cell_type": "code",
   "execution_count": 72,
   "metadata": {},
   "outputs": [
    {
     "data": {
      "image/png": "[encoded data removed]",
      "text/plain": [
       "<Figure size 432x288 with 1 Axes>"
      ]
     },
     "metadata": {},
     "output_type": "display_data"
    }
   ],
   "source": [
    "data = stats.poisson.rvs(mu = 2, loc = 0, size = 1000)\n",
    "plt.figure()\n",
    "plt.hist(data, bins = 20, density = True)\n",
    "plt.xlim(0,10)\n",
    "plt.xlabel(\"Number of accidents\")\n",
    "plt.title(\"Poisson Random Variable\")\n",
    "plt.show()"
   ]
  },
  {
   "cell_type": "markdown",
   "metadata": {},
   "source": [
    "###### The most common representation of a distribution is a histogram which shows the frequency or probability of each value. \n",
    "> Discrete: Have a finite or countable number of values\n",
    "\n",
    "> Continous: Have an infinite number of possible values"
   ]
  },
  {
   "cell_type": "markdown",
   "metadata": {},
   "source": [
    "## Exponential Distribution \n",
    "> The exponential distribution represents a process in which events occur continuously and independently at a constant average rate.\n",
    "\n",
    "> Parameter: called rate parameter, \n",
    "    \n",
    "> Method: Takes shape parameter scale as its argument which is 1/lamba, loc argument can be used to shift distribution and size decides the number of\n",
    "> random variates in the distribution. \n",
    "\n",
    "\n"
   ]
  },
  {
   "cell_type": "code",
   "execution_count": 83,
   "metadata": {},
   "outputs": [
    {
     "data": {
      "text/plain": [
       "[Text(0,0.5,'Frequency'), Text(0.5,0,'Exponential Distribution')]"
      ]
     },
     "execution_count": 83,
     "metadata": {},
     "output_type": "execute_result"
    },
    {
     "data": {
      "image/png": "[encoded data removed]",
      "text/plain": [
       "<Figure size 432x288 with 1 Axes>"
      ]
     },
     "metadata": {},
     "output_type": "display_data"
    }
   ],
   "source": [
    "data_expon = stats.expon.rvs(scale = 1, loc = 0, size = 1000)\n",
    "ax = sns.distplot(data_expon,\n",
    "                  bins=100,\n",
    "                  kde=True,\n",
    "                  color='skyblue',\n",
    "                  hist_kws={\"linewidth\": 15,'alpha':1})\n",
    "ax.set(xlabel='Exponential Distribution', ylabel='Frequency')"
   ]
  },
  {
   "cell_type": "markdown",
   "metadata": {},
   "source": [
    "## Betta Distribution \n",
    "> The beta distribution is a continuous distribution which can take values between 0 and 1. \n",
    "\n",
    "> Parameters: two shape parameters α and β.The shape of beta distribution depends on the values of alpha and beta values.\n",
    "> Beta distribution is a probability density function that use stats.beta.pdf\n",
    "    \n",
    "> Used and Purpose: Beta distribution is predominantly used in Bayesian analysis."
   ]
  },
  {
   "cell_type": "code",
   "execution_count": 79,
   "metadata": {},
   "outputs": [
    {
     "data": {
      "image/png": "[encoded data removed]",
      "text/plain": [
       "<Figure size 432x288 with 1 Axes>"
      ]
     },
     "metadata": {},
     "output_type": "display_data"
    }
   ],
   "source": [
    "from scipy import stats\n",
    "import numpy as np \n",
    "import matplotlib.pyplot as plt\n",
    "a = 0.5\n",
    "b = 0.5\n",
    "x = np.arange(0.01,1,0.01)\n",
    "y = stats.beta.pdf(x,a,b)\n",
    "plt.plot(x,y,'r-')             \n",
    "plt.title('Beta Distribution', fontsize=12)\n",
    "plt.xlabel('x', fontsize=12)\n",
    "plt.ylabel('Probability Density', fontsize=12)\n",
    "plt.show()"
   ]
  },
  {
   "cell_type": "markdown",
   "metadata": {},
   "source": [
    "## Gamma Distribution \n",
    "The gamma distribution is a two-parameter family of continuous probability distributions. "
   ]
  },
  {
   "cell_type": "code",
   "execution_count": 89,
   "metadata": {},
   "outputs": [
    {
     "data": {
      "text/plain": [
       "[Text(0,0.5,'Frequency'), Text(0.5,0,'Gamma Distribution')]"
      ]
     },
     "execution_count": 89,
     "metadata": {},
     "output_type": "execute_result"
    },
    {
     "data": {
      "image/png": "[encoded data removed]",
      "text/plain": [
       "<Figure size 432x288 with 1 Axes>"
      ]
     },
     "metadata": {},
     "output_type": "display_data"
    }
   ],
   "source": [
    "from scipy.stats import gamma\n",
    "data_gamma = gamma.rvs(a=5, size = 10000)\n",
    "ax = sns.distplot(data_gamma,\n",
    "                  bins=100,\n",
    "                  kde=True,\n",
    "                  color='skyblue',\n",
    "                  hist_kws={\"linewidth\": 15,'alpha':1})\n",
    "ax.set(xlabel='Gamma Distribution', ylabel='Frequency')"
   ]
  },
  {
   "cell_type": "code",
   "execution_count": 2,
   "metadata": {},
   "outputs": [
    {
     "data": {
      "text/plain": [
       "array([3.33343943, 2.55892851, 1.42293036, 4.77443676, 3.17515911,\n",
       "       4.59539509])"
      ]
     },
     "execution_count": 2,
     "metadata": {},
     "output_type": "execute_result"
    }
   ],
   "source": [
    "# Below gives you number greater than 0 and 1\n",
    "# gives you number accordingly to what you specify as high & low\n",
    "import numpy as np\n",
    "np.random.uniform(0,5,6) "
   ]
  },
  {
   "cell_type": "code",
   "execution_count": null,
   "metadata": {
    "collapsed": true
   },
   "outputs": [],
   "source": [
    "# Seed is the position where you start picking numbers from\n",
    "# Seed is uniform interval too "
   ]
  },
  {
   "cell_type": "markdown",
   "metadata": {
    "collapsed": true
   },
   "source": [
    "<h1 align=\"center\"> Generating Pseudorandom Numbers</h1>"
   ]
  },
  {
   "cell_type": "markdown",
   "metadata": {
    "collapsed": true
   },
   "source": [
    "# References\n",
    "\n",
    "\n",
    "[2] https://www.w3cschool.cn/doc_numpy_1_11/numpy_1_11-generated-numpy-random-randint.html?lang=en\n",
    "\n",
    "[3] https://realpython.com/python-random/\n",
    "\n",
    "[4] https://en.wikipedia.org/wiki/Uniform_distribution_(continuous) \n",
    "\n",
    "[5] https://www.machinelearningplus.com/python/numpy-tutorial-part1-array-python-examples/ \n",
    "\n",
    "[6] https://chrisalbon.com/python/basics/generating_random_numbers_with_numpy\n",
    "\n",
    "[7] https://www.tutorialspoint.com/numpy/numpy_statistical_functions.htm\n",
    "\n",
    "[8] https://towardsdatascience.com/lets-talk-about-numpy-for-datascience-beginners-b8088722309f\n"
   ]
  },
  {
   "cell_type": "code",
   "execution_count": null,
   "metadata": {
    "collapsed": true
   },
   "outputs": [],
   "source": []
  }
 ],
 "metadata": {
  "kernelspec": {
   "display_name": "Python 3",
   "language": "python",
   "name": "python3"
  },
  "language_info": {
   "codemirror_mode": {
    "name": "ipython",
    "version": 3
   },
   "file_extension": ".py",
   "mimetype": "text/x-python",
   "name": "python",
   "nbconvert_exporter": "python",
   "pygments_lexer": "ipython3",
   "version": "3.6.3"
  }
 },
 "nbformat": 4,
 "nbformat_minor": 2
}
